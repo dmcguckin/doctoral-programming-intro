{
 "cells": [
  {
   "cell_type": "markdown",
   "metadata": {},
   "source": [
    "# Extended Exercise: the biggest Earthquake in the UK this Century"
   ]
  },
  {
   "cell_type": "markdown",
   "metadata": {},
   "source": [
    "## The Problem"
   ]
  },
  {
   "cell_type": "markdown",
   "metadata": {},
   "source": [
    "GeoJSON is a json-based file format for sharing geographic data. One example dataset is the USGS earthquake data:"
   ]
  },
  {
   "cell_type": "code",
   "execution_count": 1,
   "metadata": {
    "collapsed": false
   },
   "outputs": [],
   "source": [
    "import requests\n",
    "quakes=requests.get(\"http://earthquake.usgs.gov/fdsnws/event/1/query.geojson\",\n",
    "                    params={\n",
    "        'starttime':\"2000-01-01\",\n",
    "        \"maxlatitude\":\"58.723\",\n",
    "        \"minlatitude\":\"50.008\",\n",
    "        \"maxlongitude\":\"1.67\",\n",
    "        \"minlongitude\":\"-9.756\",\n",
    "        \"minmagnitude\":\"1\",\n",
    "        \"endtime\":\"2015-11-22\",\n",
    "        \"orderby\":\"time-asc\"}\n",
    "                   )"
   ]
  },
  {
   "cell_type": "code",
   "execution_count": 2,
   "metadata": {
    "collapsed": false
   },
   "outputs": [
    {
     "data": {
      "text/plain": [
       "'{\"type\":\"FeatureCollection\",\"metadata\":{\"generated\":1468836725000,\"url\":\"http://earthquake.usgs.gov/'"
      ]
     },
     "execution_count": 2,
     "metadata": {},
     "output_type": "execute_result"
    }
   ],
   "source": [
    "quakes.text[0:100]"
   ]
  },
  {
   "cell_type": "markdown",
   "metadata": {},
   "source": [
    "Your exercise: determine the location of the largest magnitude earthquake in the UK this century."
   ]
  },
  {
   "cell_type": "markdown",
   "metadata": {},
   "source": [
    "You'll need to:\n",
    "* Get the text of the web result\n",
    "* Parse the data as JSON\n",
    "* Understand how the data is structured into dictionaries and lists\n",
    "   * Where is the magnitude?\n",
    "   * Where is the place description or coordinates?\n",
    "* Program a search through all the quakes to find the biggest quake.\n",
    "* Find the place of the biggest quake\n",
    "* Form a URL for Google Maps at that latitude and longitude: look back at the introductory example\n",
    "* Display that image"
   ]
  },
  {
   "cell_type": "code",
   "execution_count": 3,
   "metadata": {
    "collapsed": false
   },
   "outputs": [
    {
     "data": {
      "text/plain": [
       "<Response [200]>"
      ]
     },
     "execution_count": 3,
     "metadata": {},
     "output_type": "execute_result"
    }
   ],
   "source": [
    "quakes"
   ]
  },
  {
   "cell_type": "code",
   "execution_count": 4,
   "metadata": {
    "collapsed": false
   },
   "outputs": [
    {
     "data": {
      "text/plain": [
       "str"
      ]
     },
     "execution_count": 4,
     "metadata": {},
     "output_type": "execute_result"
    }
   ],
   "source": [
    "type(quakes.text)"
   ]
  },
  {
   "cell_type": "code",
   "execution_count": 5,
   "metadata": {
    "collapsed": true
   },
   "outputs": [],
   "source": [
    "import json"
   ]
  },
  {
   "cell_type": "code",
   "execution_count": 6,
   "metadata": {
    "collapsed": true
   },
   "outputs": [],
   "source": [
    "data=json.loads(quakes.text)"
   ]
  },
  {
   "cell_type": "code",
   "execution_count": 7,
   "metadata": {
    "collapsed": false
   },
   "outputs": [
    {
     "data": {
      "text/plain": [
       "dict"
      ]
     },
     "execution_count": 7,
     "metadata": {},
     "output_type": "execute_result"
    }
   ],
   "source": [
    "type(data)"
   ]
  },
  {
   "cell_type": "code",
   "execution_count": 8,
   "metadata": {
    "collapsed": false
   },
   "outputs": [
    {
     "data": {
      "text/plain": [
       "dict_keys(['metadata', 'features', 'bbox', 'type'])"
      ]
     },
     "execution_count": 8,
     "metadata": {},
     "output_type": "execute_result"
    }
   ],
   "source": [
    "data.keys()"
   ]
  },
  {
   "cell_type": "code",
   "execution_count": 9,
   "metadata": {
    "collapsed": false
   },
   "outputs": [
    {
     "data": {
      "text/plain": [
       "list"
      ]
     },
     "execution_count": 9,
     "metadata": {},
     "output_type": "execute_result"
    }
   ],
   "source": [
    "type(data['features'])"
   ]
  },
  {
   "cell_type": "code",
   "execution_count": 10,
   "metadata": {
    "collapsed": false
   },
   "outputs": [
    {
     "data": {
      "text/plain": [
       "dict"
      ]
     },
     "execution_count": 10,
     "metadata": {},
     "output_type": "execute_result"
    }
   ],
   "source": [
    "type(data['features'][0])"
   ]
  },
  {
   "cell_type": "code",
   "execution_count": 11,
   "metadata": {
    "collapsed": false
   },
   "outputs": [
    {
     "data": {
      "text/plain": [
       "dict_keys(['id', 'type', 'properties', 'geometry'])"
      ]
     },
     "execution_count": 11,
     "metadata": {},
     "output_type": "execute_result"
    }
   ],
   "source": [
    "data['features'][0].keys()"
   ]
  },
  {
   "cell_type": "code",
   "execution_count": 12,
   "metadata": {
    "collapsed": false
   },
   "outputs": [
    {
     "data": {
      "text/plain": [
       "dict_keys(['mag', 'sig', 'ids', 'detail', 'net', 'sources', 'tz', 'code', 'cdi', 'types', 'mmi', 'felt', 'dmin', 'status', 'time', 'magType', 'alert', 'updated', 'url', 'title', 'gap', 'place', 'tsunami', 'rms', 'nst', 'type'])"
      ]
     },
     "execution_count": 12,
     "metadata": {},
     "output_type": "execute_result"
    }
   ],
   "source": [
    "data['features'][0]['properties'].keys()"
   ]
  },
  {
   "cell_type": "code",
   "execution_count": 13,
   "metadata": {
    "collapsed": false
   },
   "outputs": [
    {
     "data": {
      "text/plain": [
       "2.6"
      ]
     },
     "execution_count": 13,
     "metadata": {},
     "output_type": "execute_result"
    }
   ],
   "source": [
    "data['features'][0]['properties']['mag']"
   ]
  },
  {
   "cell_type": "code",
   "execution_count": 14,
   "metadata": {
    "collapsed": false
   },
   "outputs": [
    {
     "data": {
      "text/plain": [
       "{'coordinates': [-2.81, 54.77, 14], 'type': 'Point'}"
      ]
     },
     "execution_count": 14,
     "metadata": {},
     "output_type": "execute_result"
    }
   ],
   "source": [
    "data['features'][0]['geometry']"
   ]
  },
  {
   "cell_type": "code",
   "execution_count": 15,
   "metadata": {
    "collapsed": false
   },
   "outputs": [
    {
     "data": {
      "text/plain": [
       "-2.81"
      ]
     },
     "execution_count": 15,
     "metadata": {},
     "output_type": "execute_result"
    }
   ],
   "source": [
    "data['features'][0]['geometry']['coordinates'][0]"
   ]
  },
  {
   "cell_type": "code",
   "execution_count": 16,
   "metadata": {
    "collapsed": false
   },
   "outputs": [
    {
     "name": "stdout",
     "output_type": "stream",
     "text": [
      "This quake has magnitude 2.6\n",
      " ... and is at longitude -2.81\n",
      " ... and latitude 54.77\n",
      "\n",
      "This quake has magnitude 4\n",
      " ... and is at longitude -1.61\n",
      " ... and latitude 52.28\n",
      "\n",
      "This quake has magnitude 4\n",
      " ... and is at longitude 1.564\n",
      " ... and latitude 53.236\n",
      "\n",
      "This quake has magnitude 3.3\n",
      " ... and is at longitude 0.872\n",
      " ... and latitude 58.097\n",
      "\n",
      "This quake has magnitude 2.9\n",
      " ... and is at longitude -1.845\n",
      " ... and latitude 51.432\n",
      "\n",
      "This quake has magnitude 2.9\n",
      " ... and is at longitude -3.639\n",
      " ... and latitude 55.102\n",
      "\n",
      "This quake has magnitude 4\n",
      " ... and is at longitude -4.684\n",
      " ... and latitude 50.995\n",
      "\n",
      "This quake has magnitude 2.6\n",
      " ... and is at longitude 1.144\n",
      " ... and latitude 51.76\n",
      "\n",
      "This quake has magnitude 2.6\n",
      " ... and is at longitude 1.094\n",
      " ... and latitude 51.332\n",
      "\n",
      "This quake has magnitude 3.5\n",
      " ... and is at longitude -3.205\n",
      " ... and latitude 51.552\n",
      "\n",
      "This quake has magnitude 2.5\n",
      " ... and is at longitude -3.25\n",
      " ... and latitude 51.7\n",
      "\n",
      "This quake has magnitude 4.2\n",
      " ... and is at longitude -0.856\n",
      " ... and latitude 52.846\n",
      "\n",
      "This quake has magnitude 3\n",
      " ... and is at longitude -3.14\n",
      " ... and latitude 51.63\n",
      "\n",
      "This quake has magnitude 3.4\n",
      " ... and is at longitude 1.288\n",
      " ... and latitude 53.168\n",
      "\n",
      "This quake has magnitude 3.5\n",
      " ... and is at longitude -3.255\n",
      " ... and latitude 51.7\n",
      "\n",
      "This quake has magnitude 3.4\n",
      " ... and is at longitude -3.081\n",
      " ... and latitude 51.567\n",
      "\n",
      "This quake has magnitude 3\n",
      " ... and is at longitude -0.009\n",
      " ... and latitude 50.048\n",
      "\n",
      "This quake has magnitude 2.3\n",
      " ... and is at longitude -5.749\n",
      " ... and latitude 56.596\n",
      "\n",
      "This quake has magnitude 2.1\n",
      " ... and is at longitude -3.588\n",
      " ... and latitude 51.713\n",
      "\n",
      "This quake has magnitude 4.8\n",
      " ... and is at longitude -2.15\n",
      " ... and latitude 52.52\n",
      "\n",
      "This quake has magnitude 3.2\n",
      " ... and is at longitude -2.136\n",
      " ... and latitude 52.522\n",
      "\n",
      "This quake has magnitude 1.2\n",
      " ... and is at longitude -2.138\n",
      " ... and latitude 52.521\n",
      "\n",
      "This quake has magnitude 3.7\n",
      " ... and is at longitude -2\n",
      " ... and latitude 53.475\n",
      "\n",
      "This quake has magnitude 4.3\n",
      " ... and is at longitude -2.219\n",
      " ... and latitude 53.478\n",
      "\n",
      "This quake has magnitude 2.9\n",
      " ... and is at longitude -2.219\n",
      " ... and latitude 53.463\n",
      "\n",
      "This quake has magnitude 3.5\n",
      " ... and is at longitude -2.146\n",
      " ... and latitude 53.473\n",
      "\n",
      "This quake has magnitude 3.3\n",
      " ... and is at longitude -2.157\n",
      " ... and latitude 53.477\n",
      "\n",
      "This quake has magnitude 3.8\n",
      " ... and is at longitude -2.179\n",
      " ... and latitude 53.485\n",
      "\n",
      "This quake has magnitude 2.8\n",
      " ... and is at longitude -2.197\n",
      " ... and latitude 53.482\n",
      "\n",
      "This quake has magnitude 2.5\n",
      " ... and is at longitude -2.204\n",
      " ... and latitude 53.481\n",
      "\n",
      "This quake has magnitude 2.5\n",
      " ... and is at longitude -2.213\n",
      " ... and latitude 53.488\n",
      "\n",
      "This quake has magnitude 2.6\n",
      " ... and is at longitude -2.188\n",
      " ... and latitude 53.477\n",
      "\n",
      "This quake has magnitude 3.1\n",
      " ... and is at longitude -2.198\n",
      " ... and latitude 53.481\n",
      "\n",
      "This quake has magnitude 2.3\n",
      " ... and is at longitude 1.582\n",
      " ... and latitude 51.055\n",
      "\n",
      "This quake has magnitude 3\n",
      " ... and is at longitude -4.416\n",
      " ... and latitude 56.169\n",
      "\n",
      "This quake has magnitude 2.8\n",
      " ... and is at longitude -4.439\n",
      " ... and latitude 56.181\n",
      "\n",
      "This quake has magnitude 2.5\n",
      " ... and is at longitude -4.427\n",
      " ... and latitude 56.167\n",
      "\n",
      "This quake has magnitude 3.2\n",
      " ... and is at longitude -1.013\n",
      " ... and latitude 53.481\n",
      "\n",
      "This quake has magnitude 3.3\n",
      " ... and is at longitude -2.98\n",
      " ... and latitude 51.089\n",
      "\n",
      "This quake has magnitude 3.6\n",
      " ... and is at longitude -2.98\n",
      " ... and latitude 51.089\n",
      "\n",
      "This quake has magnitude 3.7\n",
      " ... and is at longitude -2.98\n",
      " ... and latitude 51.089\n",
      "\n",
      "This quake has magnitude 3.4\n",
      " ... and is at longitude -1.999\n",
      " ... and latitude 53.566\n",
      "\n",
      "This quake has magnitude 2.7\n",
      " ... and is at longitude 0.765\n",
      " ... and latitude 58.146\n",
      "\n",
      "This quake has magnitude 3\n",
      " ... and is at longitude -0.602\n",
      " ... and latitude 53.936\n",
      "\n",
      "This quake has magnitude 3.8\n",
      " ... and is at longitude -3.853\n",
      " ... and latitude 53.265\n",
      "\n",
      "This quake has magnitude 2.6\n",
      " ... and is at longitude -2.055\n",
      " ... and latitude 53.092\n",
      "\n",
      "This quake has magnitude 2.9\n",
      " ... and is at longitude -0.392\n",
      " ... and latitude 51.008\n",
      "\n",
      "This quake has magnitude 3\n",
      " ... and is at longitude -5.224\n",
      " ... and latitude 56.839\n",
      "\n",
      "This quake has magnitude 2.4\n",
      " ... and is at longitude -0.395\n",
      " ... and latitude 51.772\n",
      "\n",
      "This quake has magnitude 3.2\n",
      " ... and is at longitude -5.641\n",
      " ... and latitude 53.001\n",
      "\n",
      "This quake has magnitude 2.7\n",
      " ... and is at longitude -5.685\n",
      " ... and latitude 56.68\n",
      "\n",
      "This quake has magnitude 2.4\n",
      " ... and is at longitude -5.662\n",
      " ... and latitude 56.668\n",
      "\n",
      "This quake has magnitude 1.7\n",
      " ... and is at longitude -3.736\n",
      " ... and latitude 56.245\n",
      "\n",
      "This quake has magnitude 2.5\n",
      " ... and is at longitude -3.761\n",
      " ... and latitude 56.277\n",
      "\n",
      "This quake has magnitude 2.6\n",
      " ... and is at longitude -1.22\n",
      " ... and latitude 51.31\n",
      "\n",
      "This quake has magnitude 1.9\n",
      " ... and is at longitude -5.233\n",
      " ... and latitude 56.676\n",
      "\n",
      "This quake has magnitude 2.9\n",
      " ... and is at longitude -5.642\n",
      " ... and latitude 57.531\n",
      "\n",
      "This quake has magnitude 2.5\n",
      " ... and is at longitude -2.988\n",
      " ... and latitude 51.094\n",
      "\n",
      "This quake has magnitude 2.7\n",
      " ... and is at longitude -3.032\n",
      " ... and latitude 52.031\n",
      "\n",
      "This quake has magnitude 1.4\n",
      " ... and is at longitude -5.251\n",
      " ... and latitude 56.705\n",
      "\n",
      "This quake has magnitude 2.7\n",
      " ... and is at longitude -2.569\n",
      " ... and latitude 52.352\n",
      "\n",
      "This quake has magnitude 2.8\n",
      " ... and is at longitude -4.512\n",
      " ... and latitude 50.346\n",
      "\n",
      "This quake has magnitude 3.6\n",
      " ... and is at longitude -3.634\n",
      " ... and latitude 55.085\n",
      "\n",
      "This quake has magnitude 3.6\n",
      " ... and is at longitude 0.998\n",
      " ... and latitude 53.666\n",
      "\n",
      "This quake has magnitude 1.3\n",
      " ... and is at longitude -5.624\n",
      " ... and latitude 56.942\n",
      "\n",
      "This quake has magnitude 1.7\n",
      " ... and is at longitude -1.254\n",
      " ... and latitude 53.458\n",
      "\n",
      "This quake has magnitude 1.4\n",
      " ... and is at longitude -1.248\n",
      " ... and latitude 53.461\n",
      "\n",
      "This quake has magnitude 1.7\n",
      " ... and is at longitude -1.225\n",
      " ... and latitude 53.453\n",
      "\n",
      "This quake has magnitude 1.2\n",
      " ... and is at longitude -1.239\n",
      " ... and latitude 53.461\n",
      "\n",
      "This quake has magnitude 1.6\n",
      " ... and is at longitude -1.23\n",
      " ... and latitude 53.46\n",
      "\n",
      "This quake has magnitude 1.3\n",
      " ... and is at longitude -1.212\n",
      " ... and latitude 53.476\n",
      "\n",
      "This quake has magnitude 1.4\n",
      " ... and is at longitude -1.223\n",
      " ... and latitude 53.453\n",
      "\n",
      "This quake has magnitude 4.6\n",
      " ... and is at longitude 1.009\n",
      " ... and latitude 51.085\n",
      "\n",
      "This quake has magnitude 2.6\n",
      " ... and is at longitude -0.957\n",
      " ... and latitude 52.801\n",
      "\n",
      "This quake has magnitude 2.5\n",
      " ... and is at longitude -2.185\n",
      " ... and latitude 53.488\n",
      "\n",
      "This quake has magnitude 2.2\n",
      " ... and is at longitude -2.178\n",
      " ... and latitude 53.482\n",
      "\n",
      "This quake has magnitude 2.3\n",
      " ... and is at longitude 1.415\n",
      " ... and latitude 51.399\n",
      "\n",
      "This quake has magnitude 2.3\n",
      " ... and is at longitude -3.206\n",
      " ... and latitude 55.804\n",
      "\n",
      "This quake has magnitude 3.3\n",
      " ... and is at longitude -3.277\n",
      " ... and latitude 52.866\n",
      "\n",
      "This quake has magnitude 2.3\n",
      " ... and is at longitude -3.221\n",
      " ... and latitude 55.788\n",
      "\n",
      "This quake has magnitude 3.1\n",
      " ... and is at longitude 1.032\n",
      " ... and latitude 58.204\n",
      "\n",
      "This quake has magnitude 4.8\n",
      " ... and is at longitude -0.332\n",
      " ... and latitude 53.403\n",
      "\n",
      "This quake has magnitude 2.8\n",
      " ... and is at longitude -6.04\n",
      " ... and latitude 50.382\n",
      "\n",
      "This quake has magnitude 3.1\n",
      " ... and is at longitude -0.351\n",
      " ... and latitude 53.357\n",
      "\n",
      "This quake has magnitude 2.5\n",
      " ... and is at longitude -2.952\n",
      " ... and latitude 54.691\n",
      "\n",
      "This quake has magnitude 1.5\n",
      " ... and is at longitude -2.574\n",
      " ... and latitude 53.38\n",
      "\n",
      "This quake has magnitude 3.5\n",
      " ... and is at longitude -5.557\n",
      " ... and latitude 56.829\n",
      "\n",
      "This quake has magnitude 3.9\n",
      " ... and is at longitude -2.512\n",
      " ... and latitude 52.212\n",
      "\n",
      "This quake has magnitude 2.7\n",
      " ... and is at longitude 1.18\n",
      " ... and latitude 50.44\n",
      "\n",
      "This quake has magnitude 3.5\n",
      " ... and is at longitude 1.178\n",
      " ... and latitude 51.116\n",
      "\n",
      "This quake has magnitude 3\n",
      " ... and is at longitude -0.252\n",
      " ... and latitude 53.687\n",
      "\n",
      "This quake has magnitude 3.7\n",
      " ... and is at longitude -3.017\n",
      " ... and latitude 54.167\n",
      "\n",
      "This quake has magnitude 3.5\n",
      " ... and is at longitude -3.146\n",
      " ... and latitude 54.39\n",
      "\n",
      "This quake has magnitude 3.6\n",
      " ... and is at longitude -1.652\n",
      " ... and latitude 54.169\n",
      "\n",
      "This quake has magnitude 3.5\n",
      " ... and is at longitude -5.784\n",
      " ... and latitude 56.822\n",
      "\n",
      "This quake has magnitude 2.7\n",
      " ... and is at longitude -3.734\n",
      " ... and latitude 50.571\n",
      "\n",
      "This quake has magnitude 3.9\n",
      " ... and is at longitude -0.743\n",
      " ... and latitude 50.122\n",
      "\n",
      "This quake has magnitude 2.9\n",
      " ... and is at longitude -1.25\n",
      " ... and latitude 52.801\n",
      "\n",
      "This quake has magnitude 2.3\n",
      " ... and is at longitude -4.231\n",
      " ... and latitude 53.125\n",
      "\n",
      "This quake has magnitude 2.9\n",
      " ... and is at longitude -5.715\n",
      " ... and latitude 56.776\n",
      "\n",
      "This quake has magnitude 3.8\n",
      " ... and is at longitude -4.719\n",
      " ... and latitude 52.883\n",
      "\n",
      "This quake has magnitude 2.8\n",
      " ... and is at longitude -4.72\n",
      " ... and latitude 52.879\n",
      "\n",
      "This quake has magnitude 3.2\n",
      " ... and is at longitude -3.403\n",
      " ... and latitude 53.887\n",
      "\n",
      "This quake has magnitude 4.1\n",
      " ... and is at longitude -4.164\n",
      " ... and latitude 51.363\n",
      "\n",
      "This quake has magnitude 3.5\n",
      " ... and is at longitude -0.732\n",
      " ... and latitude 52.722\n",
      "\n",
      "This quake has magnitude 2.6\n",
      " ... and is at longitude -1.191\n",
      " ... and latitude 53.057\n",
      "\n",
      "This quake has magnitude 2.9\n",
      " ... and is at longitude -1.299\n",
      " ... and latitude 51.072\n",
      "\n",
      "This quake has magnitude 3.8\n",
      " ... and is at longitude -0.717\n",
      " ... and latitude 52.727\n",
      "\n",
      "This quake has magnitude 3.7\n",
      " ... and is at longitude 1.438\n",
      " ... and latitude 51.304\n",
      "\n",
      "This quake has magnitude 3\n",
      " ... and is at longitude -4.355\n",
      " ... and latitude 53.116\n",
      "\n",
      "This quake has magnitude 2.8\n",
      " ... and is at longitude -0.693\n",
      " ... and latitude 52.714\n",
      "\n"
     ]
    }
   ],
   "source": [
    "for quake in data['features']:\n",
    "    print(\"This quake has magnitude\", quake['properties']['mag'])\n",
    "    print(\" ... and is at longitude\",quake['geometry']['coordinates'][0])\n",
    "    print(\" ... and latitude\", quake['geometry']['coordinates'][1])\n",
    "    print()"
   ]
  }
 ],
 "metadata": {
  "jekyll": {
   "display_name": "Earthquakes Exercise"
  },
  "kernelspec": {
   "display_name": "Python 3",
   "language": "python",
   "name": "python3"
  },
  "language_info": {
   "codemirror_mode": {
    "name": "ipython",
    "version": 3
   },
   "file_extension": ".py",
   "mimetype": "text/x-python",
   "name": "python",
   "nbconvert_exporter": "python",
   "pygments_lexer": "ipython3",
   "version": "3.5.2"
  }
 },
 "nbformat": 4,
 "nbformat_minor": 0
}
