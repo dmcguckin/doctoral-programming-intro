{
 "metadata": {
  "jekyll": {
   "display_name": "Earthquakes Exercise"
  },
  "kernelspec": {
   "display_name": "Python 3",
   "language": "python",
   "name": "python3"
  },
  "language_info": {
   "codemirror_mode": {
    "name": "ipython",
    "version": 3
   },
   "file_extension": ".py",
   "mimetype": "text/x-python",
   "name": "python",
   "nbconvert_exporter": "python",
   "pygments_lexer": "ipython3",
   "version": "3.5.2"
  },
  "name": ""
 },
 "nbformat": 2,
 "nbformat_minor": 0,
 "orig_nbformat": 4,
 "orig_nbformat_minor": 1,
 "worksheets": [
  {
   "cells": [
    {
     "cell_type": "markdown",
     "metadata": {},
     "source": [
      "# Extended Exercise: the biggest Earthquake in the UK this Century"
     ]
    },
    {
     "cell_type": "markdown",
     "metadata": {},
     "source": [
      "## The Problem"
     ]
    },
    {
     "cell_type": "markdown",
     "metadata": {},
     "source": [
      "GeoJSON is a json-based file format for sharing geographic data. One example dataset is the USGS earthquake data:"
     ]
    },
    {
     "cell_type": "code",
     "collapsed": false,
     "input": [
      "import requests",
      "quakes=requests.get(\"http://earthquake.usgs.gov/fdsnws/event/1/query.geojson\",",
      "                    params={",
      "        'starttime':\"2000-01-01\",",
      "        \"maxlatitude\":\"58.723\",",
      "        \"minlatitude\":\"50.008\",",
      "        \"maxlongitude\":\"1.67\",",
      "        \"minlongitude\":\"-9.756\",",
      "        \"minmagnitude\":\"1\",",
      "        \"endtime\":\"2015-11-22\",",
      "        \"orderby\":\"time-asc\"}",
      "                   )"
     ],
     "language": "python",
     "metadata": {},
     "outputs": [],
     "prompt_number": 1
    },
    {
     "cell_type": "code",
     "collapsed": false,
     "input": [
      "quakes.text[0:100]"
     ],
     "language": "python",
     "metadata": {},
     "outputs": [
      {
       "metadata": {},
       "output_type": "pyout",
       "prompt_number": 2,
       "text": [
        "'{\"type\":\"FeatureCollection\",\"metadata\":{\"generated\":1479827773000,\"url\":\"http://earthquake.usgs.gov/'"
       ]
      }
     ],
     "prompt_number": 2
    },
    {
     "cell_type": "markdown",
     "metadata": {},
     "source": [
      "Your exercise: determine the location of the largest magnitude earthquake in the UK this century."
     ]
    },
    {
     "cell_type": "markdown",
     "metadata": {},
     "source": [
      "You'll need to:",
      "* Get the text of the web result",
      "* Parse the data as JSON",
      "* Understand how the data is structured into dictionaries and lists",
      "   * Where is the magnitude?",
      "   * Where is the place description or coordinates?",
      "* Program a search through all the quakes to find the biggest quake.",
      "* Find the place of the biggest quake",
      "* Form a URL for Google Maps at that latitude and longitude: look back at the introductory example",
      "* Display that image"
     ]
    },
    {
     "cell_type": "code",
     "collapsed": false,
     "input": [
      "quakes"
     ],
     "language": "python",
     "metadata": {},
     "outputs": [
      {
       "metadata": {},
       "output_type": "pyout",
       "prompt_number": 3,
       "text": [
        "<Response [200]>"
       ]
      }
     ],
     "prompt_number": 3
    },
    {
     "cell_type": "code",
     "collapsed": false,
     "input": [
      "type(quakes.text)"
     ],
     "language": "python",
     "metadata": {},
     "outputs": [
      {
       "metadata": {},
       "output_type": "pyout",
       "prompt_number": 4,
       "text": [
        "str"
       ]
      }
     ],
     "prompt_number": 4
    },
    {
     "cell_type": "code",
     "collapsed": true,
     "input": [
      "import json"
     ],
     "language": "python",
     "metadata": {},
     "outputs": [],
     "prompt_number": 5
    },
    {
     "cell_type": "code",
     "collapsed": true,
     "input": [
      "data=json.loads(quakes.text)"
     ],
     "language": "python",
     "metadata": {},
     "outputs": [],
     "prompt_number": 6
    },
    {
     "cell_type": "code",
     "collapsed": false,
     "input": [
      "type(data)"
     ],
     "language": "python",
     "metadata": {},
     "outputs": [
      {
       "metadata": {},
       "output_type": "pyout",
       "prompt_number": 7,
       "text": [
        "dict"
       ]
      }
     ],
     "prompt_number": 7
    },
    {
     "cell_type": "code",
     "collapsed": false,
     "input": [
      "data.keys()"
     ],
     "language": "python",
     "metadata": {},
     "outputs": [
      {
       "metadata": {},
       "output_type": "pyout",
       "prompt_number": 8,
       "text": [
        "dict_keys(['bbox', 'type', 'features', 'metadata'])"
       ]
      }
     ],
     "prompt_number": 8
    },
    {
     "cell_type": "code",
     "collapsed": false,
     "input": [
      "type(data['features'])"
     ],
     "language": "python",
     "metadata": {},
     "outputs": [
      {
       "metadata": {},
       "output_type": "pyout",
       "prompt_number": 9,
       "text": [
        "list"
       ]
      }
     ],
     "prompt_number": 9
    },
    {
     "cell_type": "code",
     "collapsed": false,
     "input": [
      "type(data['features'][0])"
     ],
     "language": "python",
     "metadata": {},
     "outputs": [
      {
       "metadata": {},
       "output_type": "pyout",
       "prompt_number": 10,
       "text": [
        "dict"
       ]
      }
     ],
     "prompt_number": 10
    },
    {
     "cell_type": "code",
     "collapsed": false,
     "input": [
      "data['features'][0].keys()"
     ],
     "language": "python",
     "metadata": {},
     "outputs": [
      {
       "metadata": {},
       "output_type": "pyout",
       "prompt_number": 11,
       "text": [
        "dict_keys(['geometry', 'id', 'type', 'properties'])"
       ]
      }
     ],
     "prompt_number": 11
    },
    {
     "cell_type": "code",
     "collapsed": false,
     "input": [
      "data['features'][0]['properties'].keys()"
     ],
     "language": "python",
     "metadata": {},
     "outputs": [
      {
       "metadata": {},
       "output_type": "pyout",
       "prompt_number": 12,
       "text": [
        "dict_keys(['place', 'mag', 'time', 'cdi', 'gap', 'tz', 'tsunami', 'alert', 'types', 'sig', 'detail', 'net', 'nst', 'type', 'url', 'title', 'sources', 'felt', 'magType', 'updated', 'mmi', 'dmin', 'status', 'code', 'ids', 'rms'])"
       ]
      }
     ],
     "prompt_number": 12
    },
    {
     "cell_type": "code",
     "collapsed": false,
     "input": [
      "data['features'][0]['properties']['mag']"
     ],
     "language": "python",
     "metadata": {},
     "outputs": [
      {
       "metadata": {},
       "output_type": "pyout",
       "prompt_number": 13,
       "text": [
        "2.6"
       ]
      }
     ],
     "prompt_number": 13
    },
    {
     "cell_type": "code",
     "collapsed": false,
     "input": [
      "data['features'][0]['geometry']"
     ],
     "language": "python",
     "metadata": {},
     "outputs": [
      {
       "metadata": {},
       "output_type": "pyout",
       "prompt_number": 14,
       "text": [
        "{'coordinates': [-2.81, 54.77, 14], 'type': 'Point'}"
       ]
      }
     ],
     "prompt_number": 14
    },
    {
     "cell_type": "code",
     "collapsed": false,
     "input": [
      "data['features'][0]['geometry']['coordinates'][0]"
     ],
     "language": "python",
     "metadata": {},
     "outputs": [
      {
       "metadata": {},
       "output_type": "pyout",
       "prompt_number": 15,
       "text": [
        "-2.81"
       ]
      }
     ],
     "prompt_number": 15
    },
    {
     "cell_type": "code",
     "collapsed": false,
     "input": [
      "for quake in data['features']:",
      "    print(\"This quake has magnitude\", quake['properties']['mag'])",
      "    print(\" ... and is at longitude\",quake['geometry']['coordinates'][0])",
      "    print(\" ... and latitude\", quake['geometry']['coordinates'][1])",
      "    print()"
     ],
     "language": "python",
     "metadata": {},
     "outputs": [
      {
       "output_type": "stream",
       "stream": "stdout",
       "text": [
        "This quake has magnitude 2.6",
        " ... and is at longitude -2.81",
        " ... and latitude 54.77",
        "",
        "This quake has magnitude 4",
        " ... and is at longitude -1.61",
        " ... and latitude 52.28",
        "",
        "This quake has magnitude 4",
        " ... and is at longitude 1.564",
        " ... and latitude 53.236",
        "",
        "This quake has magnitude 3.3",
        " ... and is at longitude 0.872",
        " ... and latitude 58.097",
        "",
        "This quake has magnitude 2.9",
        " ... and is at longitude -1.845",
        " ... and latitude 51.432",
        "",
        "This quake has magnitude 2.9",
        " ... and is at longitude -3.639",
        " ... and latitude 55.102",
        "",
        "This quake has magnitude 4",
        " ... and is at longitude -4.684",
        " ... and latitude 50.995",
        "",
        "This quake has magnitude 2.6",
        " ... and is at longitude 1.144",
        " ... and latitude 51.76",
        "",
        "This quake has magnitude 2.6",
        " ... and is at longitude 1.094",
        " ... and latitude 51.332",
        "",
        "This quake has magnitude 3.5",
        " ... and is at longitude -3.205",
        " ... and latitude 51.552",
        "",
        "This quake has magnitude 2.5",
        " ... and is at longitude -3.25",
        " ... and latitude 51.7",
        "",
        "This quake has magnitude 4.2",
        " ... and is at longitude -0.856",
        " ... and latitude 52.846",
        "",
        "This quake has magnitude 3",
        " ... and is at longitude -3.14",
        " ... and latitude 51.63",
        "",
        "This quake has magnitude 3.4",
        " ... and is at longitude 1.288",
        " ... and latitude 53.168",
        "",
        "This quake has magnitude 3.5",
        " ... and is at longitude -3.255",
        " ... and latitude 51.7",
        "",
        "This quake has magnitude 3.4",
        " ... and is at longitude -3.081",
        " ... and latitude 51.567",
        "",
        "This quake has magnitude 3",
        " ... and is at longitude -0.009",
        " ... and latitude 50.048",
        "",
        "This quake has magnitude 2.3",
        " ... and is at longitude -5.749",
        " ... and latitude 56.596",
        "",
        "This quake has magnitude 2.1",
        " ... and is at longitude -3.588",
        " ... and latitude 51.713",
        "",
        "This quake has magnitude 4.8",
        " ... and is at longitude -2.15",
        " ... and latitude 52.52",
        "",
        "This quake has magnitude 3.2",
        " ... and is at longitude -2.136",
        " ... and latitude 52.522",
        "",
        "This quake has magnitude 1.2",
        " ... and is at longitude -2.138",
        " ... and latitude 52.521",
        "",
        "This quake has magnitude 3.7",
        " ... and is at longitude -2",
        " ... and latitude 53.475",
        "",
        "This quake has magnitude 4.3",
        " ... and is at longitude -2.219",
        " ... and latitude 53.478",
        "",
        "This quake has magnitude 2.9",
        " ... and is at longitude -2.219",
        " ... and latitude 53.463",
        "",
        "This quake has magnitude 3.5",
        " ... and is at longitude -2.146",
        " ... and latitude 53.473",
        "",
        "This quake has magnitude 3.3",
        " ... and is at longitude -2.157",
        " ... and latitude 53.477",
        "",
        "This quake has magnitude 3.8",
        " ... and is at longitude -2.179",
        " ... and latitude 53.485",
        "",
        "This quake has magnitude 2.8",
        " ... and is at longitude -2.197",
        " ... and latitude 53.482",
        "",
        "This quake has magnitude 2.5",
        " ... and is at longitude -2.204",
        " ... and latitude 53.481",
        "",
        "This quake has magnitude 2.5",
        " ... and is at longitude -2.213",
        " ... and latitude 53.488",
        "",
        "This quake has magnitude 2.6",
        " ... and is at longitude -2.188",
        " ... and latitude 53.477",
        "",
        "This quake has magnitude 3.1",
        " ... and is at longitude -2.198",
        " ... and latitude 53.481",
        "",
        "This quake has magnitude 2.3",
        " ... and is at longitude 1.582",
        " ... and latitude 51.055",
        "",
        "This quake has magnitude 3",
        " ... and is at longitude -4.416",
        " ... and latitude 56.169",
        "",
        "This quake has magnitude 2.8",
        " ... and is at longitude -4.439",
        " ... and latitude 56.181",
        "",
        "This quake has magnitude 2.5",
        " ... and is at longitude -4.427",
        " ... and latitude 56.167",
        "",
        "This quake has magnitude 3.2",
        " ... and is at longitude -1.013",
        " ... and latitude 53.481",
        "",
        "This quake has magnitude 3.3",
        " ... and is at longitude -2.98",
        " ... and latitude 51.089",
        "",
        "This quake has magnitude 3.6",
        " ... and is at longitude -2.98",
        " ... and latitude 51.089",
        "",
        "This quake has magnitude 3.7",
        " ... and is at longitude -2.98",
        " ... and latitude 51.089",
        "",
        "This quake has magnitude 3.4",
        " ... and is at longitude -1.999",
        " ... and latitude 53.566",
        "",
        "This quake has magnitude 2.7",
        " ... and is at longitude 0.765",
        " ... and latitude 58.146",
        "",
        "This quake has magnitude 3",
        " ... and is at longitude -0.602",
        " ... and latitude 53.936",
        "",
        "This quake has magnitude 3.8",
        " ... and is at longitude -3.853",
        " ... and latitude 53.265",
        "",
        "This quake has magnitude 2.6",
        " ... and is at longitude -2.055",
        " ... and latitude 53.092",
        "",
        "This quake has magnitude 2.9",
        " ... and is at longitude -0.392",
        " ... and latitude 51.008",
        "",
        "This quake has magnitude 3",
        " ... and is at longitude -5.224",
        " ... and latitude 56.839",
        "",
        "This quake has magnitude 2.4",
        " ... and is at longitude -0.395",
        " ... and latitude 51.772",
        "",
        "This quake has magnitude 3.2",
        " ... and is at longitude -5.641",
        " ... and latitude 53.001",
        "",
        "This quake has magnitude 2.7",
        " ... and is at longitude -5.685",
        " ... and latitude 56.68",
        "",
        "This quake has magnitude 2.4",
        " ... and is at longitude -5.662",
        " ... and latitude 56.668",
        "",
        "This quake has magnitude 1.7",
        " ... and is at longitude -3.736",
        " ... and latitude 56.245",
        "",
        "This quake has magnitude 2.5",
        " ... and is at longitude -3.761",
        " ... and latitude 56.277",
        "",
        "This quake has magnitude 2.6",
        " ... and is at longitude -1.22",
        " ... and latitude 51.31",
        "",
        "This quake has magnitude 1.9",
        " ... and is at longitude -5.233",
        " ... and latitude 56.676",
        "",
        "This quake has magnitude 2.9",
        " ... and is at longitude -5.642",
        " ... and latitude 57.531",
        "",
        "This quake has magnitude 2.5",
        " ... and is at longitude -2.988",
        " ... and latitude 51.094",
        "",
        "This quake has magnitude 2.7",
        " ... and is at longitude -3.032",
        " ... and latitude 52.031",
        "",
        "This quake has magnitude 1.4",
        " ... and is at longitude -5.251",
        " ... and latitude 56.705",
        "",
        "This quake has magnitude 2.7",
        " ... and is at longitude -2.569",
        " ... and latitude 52.352",
        "",
        "This quake has magnitude 2.8",
        " ... and is at longitude -4.512",
        " ... and latitude 50.346",
        "",
        "This quake has magnitude 3.6",
        " ... and is at longitude -3.634",
        " ... and latitude 55.085",
        "",
        "This quake has magnitude 3.6",
        " ... and is at longitude 0.998",
        " ... and latitude 53.666",
        "",
        "This quake has magnitude 1.3",
        " ... and is at longitude -5.624",
        " ... and latitude 56.942",
        "",
        "This quake has magnitude 1.7",
        " ... and is at longitude -1.254",
        " ... and latitude 53.458",
        "",
        "This quake has magnitude 1.4",
        " ... and is at longitude -1.248",
        " ... and latitude 53.461",
        "",
        "This quake has magnitude 1.7",
        " ... and is at longitude -1.225",
        " ... and latitude 53.453",
        "",
        "This quake has magnitude 1.2",
        " ... and is at longitude -1.239",
        " ... and latitude 53.461",
        "",
        "This quake has magnitude 1.6",
        " ... and is at longitude -1.23",
        " ... and latitude 53.46",
        "",
        "This quake has magnitude 1.3",
        " ... and is at longitude -1.212",
        " ... and latitude 53.476",
        "",
        "This quake has magnitude 1.4",
        " ... and is at longitude -1.223",
        " ... and latitude 53.453",
        "",
        "This quake has magnitude 4.6",
        " ... and is at longitude 1.009",
        " ... and latitude 51.085",
        "",
        "This quake has magnitude 2.6",
        " ... and is at longitude -0.957",
        " ... and latitude 52.801",
        "",
        "This quake has magnitude 2.5",
        " ... and is at longitude -2.185",
        " ... and latitude 53.488",
        "",
        "This quake has magnitude 2.2",
        " ... and is at longitude -2.178",
        " ... and latitude 53.482",
        "",
        "This quake has magnitude 2.3",
        " ... and is at longitude 1.415",
        " ... and latitude 51.399",
        "",
        "This quake has magnitude 2.3",
        " ... and is at longitude -3.206",
        " ... and latitude 55.804",
        "",
        "This quake has magnitude 3.3",
        " ... and is at longitude -3.277",
        " ... and latitude 52.866",
        "",
        "This quake has magnitude 2.3",
        " ... and is at longitude -3.221",
        " ... and latitude 55.788",
        "",
        "This quake has magnitude 3.1",
        " ... and is at longitude 1.032",
        " ... and latitude 58.204",
        "",
        "This quake has magnitude 4.8",
        " ... and is at longitude -0.332",
        " ... and latitude 53.403",
        "",
        "This quake has magnitude 2.8",
        " ... and is at longitude -6.04",
        " ... and latitude 50.382",
        "",
        "This quake has magnitude 3.1",
        " ... and is at longitude -0.351",
        " ... and latitude 53.357",
        "",
        "This quake has magnitude 2.5",
        " ... and is at longitude -2.952",
        " ... and latitude 54.691",
        "",
        "This quake has magnitude 1.5",
        " ... and is at longitude -2.574",
        " ... and latitude 53.38",
        "",
        "This quake has magnitude 3.5",
        " ... and is at longitude -5.557",
        " ... and latitude 56.829",
        "",
        "This quake has magnitude 3.9",
        " ... and is at longitude -2.512",
        " ... and latitude 52.212",
        "",
        "This quake has magnitude 2.7",
        " ... and is at longitude 1.18",
        " ... and latitude 50.44",
        "",
        "This quake has magnitude 3.5",
        " ... and is at longitude 1.178",
        " ... and latitude 51.116",
        "",
        "This quake has magnitude 3",
        " ... and is at longitude -0.252",
        " ... and latitude 53.687",
        "",
        "This quake has magnitude 3.7",
        " ... and is at longitude -3.017",
        " ... and latitude 54.167",
        "",
        "This quake has magnitude 3.5",
        " ... and is at longitude -3.146",
        " ... and latitude 54.39",
        "",
        "This quake has magnitude 3.6",
        " ... and is at longitude -1.652",
        " ... and latitude 54.169",
        "",
        "This quake has magnitude 3.5",
        " ... and is at longitude -5.784",
        " ... and latitude 56.822",
        "",
        "This quake has magnitude 2.7",
        " ... and is at longitude -3.734",
        " ... and latitude 50.571",
        "",
        "This quake has magnitude 3.9",
        " ... and is at longitude -0.743",
        " ... and latitude 50.122",
        "",
        "This quake has magnitude 2.9",
        " ... and is at longitude -1.25",
        " ... and latitude 52.801",
        "",
        "This quake has magnitude 2.3",
        " ... and is at longitude -4.231",
        " ... and latitude 53.125",
        "",
        "This quake has magnitude 2.9",
        " ... and is at longitude -5.715",
        " ... and latitude 56.776",
        "",
        "This quake has magnitude 3.8",
        " ... and is at longitude -4.719",
        " ... and latitude 52.883",
        "",
        "This quake has magnitude 2.8",
        " ... and is at longitude -4.72",
        " ... and latitude 52.879",
        "",
        "This quake has magnitude 3.2",
        " ... and is at longitude -3.403",
        " ... and latitude 53.887",
        "",
        "This quake has magnitude 4.1",
        " ... and is at longitude -4.164",
        " ... and latitude 51.363",
        "",
        "This quake has magnitude 3.5",
        " ... and is at longitude -0.732",
        " ... and latitude 52.722",
        "",
        "This quake has magnitude 2.6",
        " ... and is at longitude -1.191",
        " ... and latitude 53.057",
        "",
        "This quake has magnitude 2.9",
        " ... and is at longitude -1.299",
        " ... and latitude 51.072",
        "",
        "This quake has magnitude 3.8",
        " ... and is at longitude -0.717",
        " ... and latitude 52.727",
        "",
        "This quake has magnitude 3.7",
        " ... and is at longitude 1.438",
        " ... and latitude 51.304",
        "",
        "This quake has magnitude 3",
        " ... and is at longitude -4.355",
        " ... and latitude 53.116",
        "",
        "This quake has magnitude 2.8",
        " ... and is at longitude -0.693",
        " ... and latitude 52.714",
        ""
       ]
      }
     ],
     "prompt_number": 16
    }
   ],
   "metadata": {}
  }
 ]
}
