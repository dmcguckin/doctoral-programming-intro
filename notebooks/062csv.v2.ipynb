{
 "metadata": {
  "jekyll": {
   "display_name": "CSV"
  },
  "kernelspec": {
   "display_name": "Python 3",
   "language": "python",
   "name": "python3"
  },
  "language_info": {
   "codemirror_mode": {
    "name": "ipython",
    "version": 3
   },
   "file_extension": ".py",
   "mimetype": "text/x-python",
   "name": "python",
   "nbconvert_exporter": "python",
   "pygments_lexer": "ipython3",
   "version": "3.5.2"
  },
  "name": ""
 },
 "nbformat": 2,
 "nbformat_minor": 0,
 "orig_nbformat": 4,
 "orig_nbformat_minor": 1,
 "worksheets": [
  {
   "cells": [
    {
     "cell_type": "markdown",
     "metadata": {},
     "source": [
      "# Field and Record Data"
     ]
    },
    {
     "cell_type": "markdown",
     "metadata": {},
     "source": [
      "## Separated Value Files"
     ]
    },
    {
     "cell_type": "markdown",
     "metadata": {},
     "source": [
      "Let's carry on with our sunspots example:"
     ]
    },
    {
     "cell_type": "code",
     "collapsed": false,
     "input": [
      "import requests",
      "spots = requests.get('http://www.sidc.be/silso/INFO/snmtotcsv.php').text",
      "spots.split('\\n')[0]"
     ],
     "language": "python",
     "metadata": {},
     "outputs": [
      {
       "metadata": {},
       "output_type": "pyout",
       "prompt_number": 1,
       "text": [
        "'1749;01;1749.042;  96.7; -1.0;   -1;1'"
       ]
      }
     ],
     "prompt_number": 1
    },
    {
     "cell_type": "markdown",
     "metadata": {},
     "source": [
      "We want to work programmatically with *Separated Value* files."
     ]
    },
    {
     "cell_type": "markdown",
     "metadata": {},
     "source": [
      "These are files which have:",
      "",
      "* Each *record* on a line",
      "* Each record has multiple *fields*",
      "* Fields are separated by some *separator*"
     ]
    },
    {
     "cell_type": "markdown",
     "metadata": {},
     "source": [
      "Typical separators are the `space`, `tab`, `comma`, and `semicolon` separated values files, e.g.:",
      "",
      "* Space separated value (e.g. `field1, \"field two\", field3` )",
      "* Comma separated value (e.g. `field1, another field, \"wow, another field\")"
     ]
    },
    {
     "cell_type": "markdown",
     "metadata": {},
     "source": [
      "Comma-separated-value is abbreviated CSV, and tab separated value TSV."
     ]
    },
    {
     "cell_type": "markdown",
     "metadata": {},
     "source": [
      "CSV is also used to refer to all the different sub-kinds of separated value files, i.e. some people use csv to refer to tab, space and semicolon separated files."
     ]
    },
    {
     "cell_type": "markdown",
     "metadata": {},
     "source": [
      "CSV is not a particularly superb data format, because it forces your data model to be a list of lists. Richer file formats",
      "describe \"serialisations\" for dictionaries and for deeper-than-two nested list structures as well."
     ]
    },
    {
     "cell_type": "markdown",
     "metadata": {},
     "source": [
      "Nevertheless, because you can always export *spreadsheets* as CSV files, (each cell is a field, each row is a record)",
      "CSV files are very popular. "
     ]
    },
    {
     "cell_type": "markdown",
     "metadata": {},
     "source": [
      "## CSV variants."
     ]
    },
    {
     "cell_type": "markdown",
     "metadata": {},
     "source": [
      "Some CSV formats define a comment character, so that rows beginning with, e.g., a #, are not treated as data, but give",
      "a human index."
     ]
    },
    {
     "cell_type": "markdown",
     "metadata": {},
     "source": [
      "Some CSV formats define a three-deep list structure, where a double-newline separates records into blocks."
     ]
    },
    {
     "cell_type": "markdown",
     "metadata": {},
     "source": [
      "Some CSV formats assume that the first line defines the names of the fields, e.g.:"
     ]
    },
    {
     "cell_type": "markdown",
     "metadata": {},
     "source": [
      "``` csv",
      "name, age, job",
      "James, 38, Programmer",
      "Elizabeth, 89, Queen",
      "```"
     ]
    },
    {
     "cell_type": "markdown",
     "metadata": {},
     "source": [
      "## Python CSV readers"
     ]
    },
    {
     "cell_type": "markdown",
     "metadata": {},
     "source": [
      "The Python standard library has a `csv` module. However, it's less powerful than the CSV capabilities in `numpy`,",
      "the main scientific python library for handling data. Numpy is destributed with Anaconda and Canopy, so we recommend you just use that."
     ]
    },
    {
     "cell_type": "markdown",
     "metadata": {},
     "source": [
      "Numpy has powerful capabilities for handling matrices, and other fun stuff, and we'll learn about these later in the course,",
      "but for now, we'll just use numpy's CSV reader, and assume it makes us lists and dictionaries, rather than it's more exciting",
      "`array` type."
     ]
    },
    {
     "cell_type": "code",
     "collapsed": false,
     "input": [
      "import numpy as np",
      "from io import BytesIO"
     ],
     "language": "python",
     "metadata": {},
     "outputs": [],
     "prompt_number": 2
    },
    {
     "cell_type": "code",
     "collapsed": false,
     "input": [
      "sunspots = np.genfromtxt(BytesIO(spots.encode()), delimiter=';')"
     ],
     "language": "python",
     "metadata": {},
     "outputs": [],
     "prompt_number": 3
    },
    {
     "cell_type": "markdown",
     "metadata": {},
     "source": [
      "`genfromtxt` is a powerful CSV reader. I used the `delimiter` optional argument to specify the delimeter. I could also specify",
      "`names=True` if I had a first line naming fields, and `comments=#` if I had comment lines."
     ]
    },
    {
     "cell_type": "code",
     "collapsed": false,
     "input": [
      "sunspots"
     ],
     "language": "python",
     "metadata": {},
     "outputs": [
      {
       "metadata": {},
       "output_type": "pyout",
       "prompt_number": 4,
       "text": [
        "array([[  1.74900000e+03,   1.00000000e+00,   1.74904200e+03, ...,",
        "         -1.00000000e+00,  -1.00000000e+00,   1.00000000e+00],",
        "       [  1.74900000e+03,   2.00000000e+00,   1.74912300e+03, ...,",
        "         -1.00000000e+00,  -1.00000000e+00,   1.00000000e+00],",
        "       [  1.74900000e+03,   3.00000000e+00,   1.74920400e+03, ...,",
        "         -1.00000000e+00,  -1.00000000e+00,   1.00000000e+00],",
        "       ..., ",
        "       [  2.01600000e+03,   8.00000000e+00,   2.01662400e+03, ...,",
        "          4.40000000e+00,   8.79000000e+02,   0.00000000e+00],",
        "       [  2.01600000e+03,   9.00000000e+00,   2.01670600e+03, ...,",
        "          3.80000000e+00,   7.42000000e+02,   0.00000000e+00],",
        "       [  2.01600000e+03,   1.00000000e+01,   2.01679100e+03, ...,",
        "          3.20000000e+00,   6.95000000e+02,   0.00000000e+00]])"
       ]
      }
     ],
     "prompt_number": 4
    },
    {
     "cell_type": "markdown",
     "metadata": {},
     "source": [
      "We can now plot the \"Sunspot cycle\":"
     ]
    },
    {
     "cell_type": "code",
     "collapsed": false,
     "input": [
      "%matplotlib inline",
      "from matplotlib import pyplot as plt",
      "plt.plot(sunspots[:,0], sunspots[:,3]) # Numpy syntax to access all ",
      "                                       #rows, specified column."
     ],
     "language": "python",
     "metadata": {},
     "outputs": [
      {
       "output_type": "stream",
       "stream": "stderr",
       "text": [
        "/home/travis/virtualenv/python3.5.0/lib/python3.5/site-packages/matplotlib/font_manager.py:273: UserWarning: Matplotlib is building the font cache using fc-list. This may take a moment.",
        "  warnings.warn('Matplotlib is building the font cache using fc-list. This may take a moment.')",
        "/home/travis/virtualenv/python3.5.0/lib/python3.5/site-packages/matplotlib/font_manager.py:273: UserWarning: Matplotlib is building the font cache using fc-list. This may take a moment.",
        "  warnings.warn('Matplotlib is building the font cache using fc-list. This may take a moment.')"
       ]
      },
      {
       "metadata": {},
       "output_type": "pyout",
       "prompt_number": 5,
       "text": [
        "[<matplotlib.lines.Line2D at 0x2ac9e34141d0>]"
       ]
      },
      {
       "metadata": {},
       "output_type": "display_data",
       "png": "[encoded data removed]",
       "text": [
        "<matplotlib.figure.Figure at 0x2ac9e3116c88>"
       ]
      }
     ],
     "prompt_number": 5
    },
    {
     "cell_type": "code",
     "collapsed": false,
     "input": [
      "%matplotlib inline",
      "import requests",
      "import numpy as np",
      "from io import BytesIO",
      "from matplotlib import pyplot as plt",
      "",
      "spots =  requests.get('http://www.sidc.be/silso/INFO/snmtotcsv.php').text",
      "sunspots = np.genfromtxt(BytesIO(spots.encode()), delimiter=';')",
      "plt.plot(sunspots[:,0], sunspots[:,3])"
     ],
     "language": "python",
     "metadata": {},
     "outputs": [
      {
       "metadata": {},
       "output_type": "pyout",
       "prompt_number": 6,
       "text": [
        "[<matplotlib.lines.Line2D at 0x2ac9e35a5fd0>]"
       ]
      },
      {
       "metadata": {},
       "output_type": "display_data",
       "png": "[encoded data removed]",
       "text": [
        "<matplotlib.figure.Figure at 0x2ac9e3137ac8>"
       ]
      }
     ],
     "prompt_number": 6
    },
    {
     "cell_type": "markdown",
     "metadata": {},
     "source": [
      "The plot command accepted an array of 'X' values and an array of 'Y' values. We used a special NumPy \":\" syntax,",
      "which we'll learn more about later."
     ]
    },
    {
     "cell_type": "markdown",
     "metadata": {},
     "source": [
      "## Naming Columns"
     ]
    },
    {
     "cell_type": "markdown",
     "metadata": {},
     "source": [
      "I happen to know that the columns here are defined as follows:"
     ]
    },
    {
     "cell_type": "markdown",
     "metadata": {},
     "source": [
      "From http://www.sidc.be/silso/infosnmtot:",
      "",
      "> CSV",
      "",
      "> Filename: SN_m_tot_V2.0.csv",
      "> Format: Comma Separated values (adapted for import in spreadsheets)",
      "The separator is the semicolon ';'.",
      "",
      "> Contents:",
      "* Column 1-2: Gregorian calendar date",
      "- Year",
      "- Month",
      "* Column 3: Date in fraction of year.",
      "* Column 4: Monthly mean total sunspot number.",
      "* Column 5: Monthly mean standard deviation of the input sunspot numbers.",
      "* Column 6: Number of observations used to compute the monthly mean total sunspot number.",
      "* Column 7: Definitive/provisional marker. '1' indicates that the value is definitive. '0' indicates that the value is still provisional."
     ]
    },
    {
     "cell_type": "markdown",
     "metadata": {
      "collapsed": true
     },
     "source": [
      "I can actually specify this to the formatter:"
     ]
    },
    {
     "cell_type": "code",
     "collapsed": true,
     "input": [
      "sunspots = np.genfromtxt(BytesIO(spots.encode()), delimiter=';', ",
      "                         names=['year','month','date',",
      "                         'mean','deviation','observations','definitive'])"
     ],
     "language": "python",
     "metadata": {},
     "outputs": [],
     "prompt_number": 7
    },
    {
     "cell_type": "code",
     "collapsed": false,
     "input": [
      "sunspots"
     ],
     "language": "python",
     "metadata": {},
     "outputs": [
      {
       "metadata": {},
       "output_type": "pyout",
       "prompt_number": 8,
       "text": [
        "array([(1749.0, 1.0, 1749.042, 96.7, -1.0, -1.0, 1.0),",
        "       (1749.0, 2.0, 1749.123, 104.3, -1.0, -1.0, 1.0),",
        "       (1749.0, 3.0, 1749.204, 116.7, -1.0, -1.0, 1.0), ...,",
        "       (2016.0, 8.0, 2016.624, 50.7, 4.4, 879.0, 0.0),",
        "       (2016.0, 9.0, 2016.706, 44.7, 3.8, 742.0, 0.0),",
        "       (2016.0, 10.0, 2016.791, 33.6, 3.2, 695.0, 0.0)], ",
        "      dtype=[('year', '<f8'), ('month', '<f8'), ('date', '<f8'), ('mean', '<f8'), ('deviation', '<f8'), ('observations', '<f8'), ('definitive', '<f8')])"
       ]
      }
     ],
     "prompt_number": 8
    },
    {
     "cell_type": "code",
     "collapsed": false,
     "input": [
      "sunspots['year']"
     ],
     "language": "python",
     "metadata": {},
     "outputs": [
      {
       "metadata": {},
       "output_type": "pyout",
       "prompt_number": 9,
       "text": [
        "array([ 1749.,  1749.,  1749., ...,  2016.,  2016.,  2016.])"
       ]
      }
     ],
     "prompt_number": 9
    },
    {
     "cell_type": "markdown",
     "metadata": {},
     "source": [
      "## Typed Fields"
     ]
    },
    {
     "cell_type": "markdown",
     "metadata": {},
     "source": [
      "It's also often good to specify the datatype of each field."
     ]
    },
    {
     "cell_type": "code",
     "collapsed": false,
     "input": [
      "sunspots = np.genfromtxt(BytesIO(spots.encode()), delimiter=';', ",
      "                         names=['year','month','date',",
      "                         'mean','deviation','observations','definitive'],",
      "                         dtype=[int, int, float, float, float, int, int])"
     ],
     "language": "python",
     "metadata": {},
     "outputs": [],
     "prompt_number": 10
    },
    {
     "cell_type": "code",
     "collapsed": false,
     "input": [
      "sunspots"
     ],
     "language": "python",
     "metadata": {},
     "outputs": [
      {
       "metadata": {},
       "output_type": "pyout",
       "prompt_number": 11,
       "text": [
        "array([(1749, 1, 1749.042, 96.7, -1.0, -1, 1),",
        "       (1749, 2, 1749.123, 104.3, -1.0, -1, 1),",
        "       (1749, 3, 1749.204, 116.7, -1.0, -1, 1), ...,",
        "       (2016, 8, 2016.624, 50.7, 4.4, 879, 0),",
        "       (2016, 9, 2016.706, 44.7, 3.8, 742, 0),",
        "       (2016, 10, 2016.791, 33.6, 3.2, 695, 0)], ",
        "      dtype=[('year', '<i8'), ('month', '<i8'), ('date', '<f8'), ('mean', '<f8'), ('deviation', '<f8'), ('observations', '<i8'), ('definitive', '<i8')])"
       ]
      }
     ],
     "prompt_number": 11
    },
    {
     "cell_type": "markdown",
     "metadata": {},
     "source": [
      "Now, NumPy understands the names of the columns, so our plot command is more readable:"
     ]
    },
    {
     "cell_type": "code",
     "collapsed": false,
     "input": [
      "sunspots['year']"
     ],
     "language": "python",
     "metadata": {},
     "outputs": [
      {
       "metadata": {},
       "output_type": "pyout",
       "prompt_number": 12,
       "text": [
        "array([1749, 1749, 1749, ..., 2016, 2016, 2016])"
       ]
      }
     ],
     "prompt_number": 12
    },
    {
     "cell_type": "code",
     "collapsed": false,
     "input": [
      "plt.plot(sunspots['year'],sunspots['mean'])"
     ],
     "language": "python",
     "metadata": {},
     "outputs": [
      {
       "metadata": {},
       "output_type": "pyout",
       "prompt_number": 13,
       "text": [
        "[<matplotlib.lines.Line2D at 0x2ac9e35cff28>]"
       ]
      },
      {
       "metadata": {},
       "output_type": "display_data",
       "png": "[encoded data removed]",
       "text": [
        "<matplotlib.figure.Figure at 0x2ac9e33e5278>"
       ]
      }
     ],
     "prompt_number": 13
    }
   ],
   "metadata": {}
  }
 ]
}
