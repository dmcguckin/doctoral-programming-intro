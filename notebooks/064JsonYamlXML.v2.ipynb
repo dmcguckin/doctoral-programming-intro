{
 "metadata": {
  "jekyll": {
   "display_name": "Structured Datafiles"
  },
  "kernelspec": {
   "display_name": "Python 3",
   "language": "python",
   "name": "python3"
  },
  "language_info": {
   "codemirror_mode": {
    "name": "ipython",
    "version": 3
   },
   "file_extension": ".py",
   "mimetype": "text/x-python",
   "name": "python",
   "nbconvert_exporter": "python",
   "pygments_lexer": "ipython3",
   "version": "3.5.2"
  },
  "name": ""
 },
 "nbformat": 2,
 "nbformat_minor": 0,
 "orig_nbformat": 4,
 "orig_nbformat_minor": 1,
 "worksheets": [
  {
   "cells": [
    {
     "cell_type": "code",
     "collapsed": false,
     "input": [
      "from pip import main as pip",
      "pip(['install', 'pyaml'])"
     ],
     "language": "python",
     "metadata": {},
     "outputs": [
      {
       "output_type": "stream",
       "stream": "stdout",
       "text": [
        "Collecting pyaml",
        "  Downloading pyaml-16.11.4-py2.py3-none-any.whl",
        "Collecting PyYAML (from pyaml)",
        "Installing collected packages: PyYAML, pyaml",
        "Successfully installed PyYAML-3.12 pyaml-16.11.4"
       ]
      },
      {
       "metadata": {},
       "output_type": "pyout",
       "prompt_number": 1,
       "text": [
        "0"
       ]
      }
     ],
     "prompt_number": 1
    },
    {
     "cell_type": "markdown",
     "metadata": {},
     "source": [
      "# Structured Data"
     ]
    },
    {
     "cell_type": "markdown",
     "metadata": {},
     "source": [
      "## Structured data"
     ]
    },
    {
     "cell_type": "markdown",
     "metadata": {},
     "source": [
      "CSV files can only model data where each record has several fields, and each field is a simple datatype,",
      "a string or number."
     ]
    },
    {
     "cell_type": "markdown",
     "metadata": {},
     "source": [
      "We often want to store data which is more complicated than this, with nested structures of lists and dictionaries.",
      "Structured data formats like Json, YAML, and XML are designed for this."
     ]
    },
    {
     "cell_type": "markdown",
     "metadata": {},
     "source": [
      "## Json"
     ]
    },
    {
     "cell_type": "markdown",
     "metadata": {},
     "source": [
      "A very common structured data format is JSON."
     ]
    },
    {
     "cell_type": "markdown",
     "metadata": {},
     "source": [
      "This allows us to represent data which is combinations of lists and dictionaries as a text file which",
      "looks a bit like a Javascript (or Python) data literal."
     ]
    },
    {
     "cell_type": "code",
     "collapsed": true,
     "input": [
      "import json"
     ],
     "language": "python",
     "metadata": {},
     "outputs": [],
     "prompt_number": 2
    },
    {
     "cell_type": "markdown",
     "metadata": {},
     "source": [
      "Any nested group of dictionaries and lists can be saved:"
     ]
    },
    {
     "cell_type": "code",
     "collapsed": true,
     "input": [
      "mydata =  {'key': ['value1', 'value2'], 'key2': {'key4':'value3'}}"
     ],
     "language": "python",
     "metadata": {},
     "outputs": [],
     "prompt_number": 3
    },
    {
     "cell_type": "code",
     "collapsed": false,
     "input": [
      "text = json.dumps(mydata)"
     ],
     "language": "python",
     "metadata": {},
     "outputs": [],
     "prompt_number": 4
    },
    {
     "cell_type": "code",
     "collapsed": false,
     "input": [
      "with open('myfile.json', 'w') as f:",
      "    f.write(text)"
     ],
     "language": "python",
     "metadata": {},
     "outputs": [],
     "prompt_number": 5
    },
    {
     "cell_type": "markdown",
     "metadata": {},
     "source": [
      "Loading data is also really easy:"
     ]
    },
    {
     "cell_type": "code",
     "collapsed": false,
     "input": [
      "file_as_string = open('myfile.json').read()"
     ],
     "language": "python",
     "metadata": {},
     "outputs": [],
     "prompt_number": 6
    },
    {
     "cell_type": "code",
     "collapsed": false,
     "input": [
      "file_as_string"
     ],
     "language": "python",
     "metadata": {},
     "outputs": [
      {
       "metadata": {},
       "output_type": "pyout",
       "prompt_number": 7,
       "text": [
        "'{\"key2\": {\"key4\": \"value3\"}, \"key\": [\"value1\", \"value2\"]}'"
       ]
      }
     ],
     "prompt_number": 7
    },
    {
     "cell_type": "code",
     "collapsed": false,
     "input": [
      "mydata = json.loads(file_as_string)"
     ],
     "language": "python",
     "metadata": {},
     "outputs": [],
     "prompt_number": 8
    },
    {
     "cell_type": "code",
     "collapsed": false,
     "input": [
      "mydata['key2']"
     ],
     "language": "python",
     "metadata": {},
     "outputs": [
      {
       "metadata": {},
       "output_type": "pyout",
       "prompt_number": 9,
       "text": [
        "{'key4': 'value3'}"
       ]
      }
     ],
     "prompt_number": 9
    },
    {
     "cell_type": "markdown",
     "metadata": {},
     "source": [
      "This is a very nice solution for loading and saving python datastructures."
     ]
    },
    {
     "cell_type": "markdown",
     "metadata": {},
     "source": [
      "It's a very common way of transferring data on the internet, and of saving datasets to disk."
     ]
    },
    {
     "cell_type": "markdown",
     "metadata": {},
     "source": [
      "There's good support in most languages, so it's a nice inter-language file interchange format."
     ]
    },
    {
     "cell_type": "markdown",
     "metadata": {},
     "source": [
      "## Unicode"
     ]
    },
    {
     "cell_type": "markdown",
     "metadata": {},
     "source": [
      "**Supplementary Material**: Why do the strings come back with 'u' everywhere? These are [**Unicode Strings**](http://www.joelonsoftware.com/articles/Unicode.html), designed to hold",
      "hold all the world's characters."
     ]
    },
    {
     "cell_type": "markdown",
     "metadata": {},
     "source": [
      "## Yaml"
     ]
    },
    {
     "cell_type": "markdown",
     "metadata": {},
     "source": [
      "Yaml is a very similar dataformat to Json, with some nice additions:"
     ]
    },
    {
     "cell_type": "markdown",
     "metadata": {},
     "source": [
      "* You don't need to quote strings if they don't have funny characters in",
      "* You can have comment lines, beginning with a #",
      "* You can write dictionaries without the curly brackets: it just notices the colons.",
      "* You can write lists like this:"
     ]
    },
    {
     "cell_type": "code",
     "collapsed": false,
     "input": [
      "%%writefile myfile.yaml",
      "",
      "somekey:",
      "    # Look, this is a list",
      "    - a list",
      "    - with values",
      "    - [1, 2, 4] # and another list of integers"
     ],
     "language": "python",
     "metadata": {},
     "outputs": [
      {
       "output_type": "stream",
       "stream": "stdout",
       "text": [
        "Writing myfile.yaml"
       ]
      }
     ],
     "prompt_number": 10
    },
    {
     "cell_type": "code",
     "collapsed": false,
     "input": [
      "import yaml"
     ],
     "language": "python",
     "metadata": {},
     "outputs": [],
     "prompt_number": 11
    },
    {
     "cell_type": "code",
     "collapsed": false,
     "input": [
      "yaml.load(open('myfile.yaml'))"
     ],
     "language": "python",
     "metadata": {},
     "outputs": [
      {
       "metadata": {},
       "output_type": "pyout",
       "prompt_number": 12,
       "text": [
        "{'somekey': ['a list', 'with values', [1, 2, 4]]}"
       ]
      }
     ],
     "prompt_number": 12
    },
    {
     "cell_type": "markdown",
     "metadata": {},
     "source": [
      "Yaml is a very versatile format for ad-hoc datafiles, but the library doesn't ship with default Python, (though it is part",
      "of Anaconda and Canopy) so some people still prefer Json for it's univerality."
     ]
    },
    {
     "cell_type": "markdown",
     "metadata": {},
     "source": [
      "Because Yaml gives the **option** of serialising a list either as newlines with dashes, *or* with square brackets,",
      "you can control this choice:"
     ]
    },
    {
     "cell_type": "code",
     "collapsed": false,
     "input": [
      "print(yaml.dump(mydata))"
     ],
     "language": "python",
     "metadata": {},
     "outputs": [
      {
       "output_type": "stream",
       "stream": "stdout",
       "text": [
        "key: [value1, value2]",
        "key2: {key4: value3}",
        ""
       ]
      }
     ],
     "prompt_number": 13
    },
    {
     "cell_type": "code",
     "collapsed": false,
     "input": [
      "print(yaml.dump(mydata, default_flow_style=False))"
     ],
     "language": "python",
     "metadata": {},
     "outputs": [
      {
       "output_type": "stream",
       "stream": "stdout",
       "text": [
        "key:",
        "- value1",
        "- value2",
        "key2:",
        "  key4: value3",
        ""
       ]
      }
     ],
     "prompt_number": 14
    },
    {
     "cell_type": "markdown",
     "metadata": {},
     "source": [
      "## XML"
     ]
    },
    {
     "cell_type": "markdown",
     "metadata": {},
     "source": [
      "*Supplementary material*: [XML](http://www.w3schools.com/xml/) is another popular choice when saving nested data structures. ",
      "It's very careful, but verbose. If your field uses XML data, you'll need to learn a [python XML parser](https://docs.python.org/2/library/xml.etree.elementtree.html),",
      "(there are a few), and about how XML works."
     ]
    },
    {
     "cell_type": "markdown",
     "metadata": {},
     "source": [
      "## Exercise:"
     ]
    },
    {
     "cell_type": "markdown",
     "metadata": {},
     "source": [
      "Use YAML or JSON to save your maze datastructure to disk and load it again."
     ]
    },
    {
     "cell_type": "code",
     "collapsed": false,
     "input": [
      "%%writefile foo.txt",
      "Write this text"
     ],
     "language": "python",
     "metadata": {},
     "outputs": [
      {
       "output_type": "stream",
       "stream": "stdout",
       "text": [
        "Writing foo.txt"
       ]
      }
     ],
     "prompt_number": 15
    },
    {
     "cell_type": "code",
     "collapsed": true,
     "input": [
      "myfile = open('foo.txt', 'w')"
     ],
     "language": "python",
     "metadata": {},
     "outputs": [],
     "prompt_number": 16
    },
    {
     "cell_type": "code",
     "collapsed": false,
     "input": [
      "myfile.write(\"Write THIS text\")"
     ],
     "language": "python",
     "metadata": {},
     "outputs": [
      {
       "metadata": {},
       "output_type": "pyout",
       "prompt_number": 17,
       "text": [
        "15"
       ]
      }
     ],
     "prompt_number": 17
    }
   ],
   "metadata": {}
  }
 ]
}
