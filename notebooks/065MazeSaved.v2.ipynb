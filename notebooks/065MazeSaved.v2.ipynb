{
 "metadata": {
  "jekyll": {
   "display_name": "Maze Files Solution"
  },
  "kernelspec": {
   "display_name": "Python 3",
   "language": "python",
   "name": "python3"
  },
  "language_info": {
   "codemirror_mode": {
    "name": "ipython",
    "version": 3
   },
   "file_extension": ".py",
   "mimetype": "text/x-python",
   "name": "python",
   "nbconvert_exporter": "python",
   "pygments_lexer": "ipython3",
   "version": "3.5.2"
  },
  "name": ""
 },
 "nbformat": 2,
 "nbformat_minor": 0,
 "orig_nbformat": 4,
 "orig_nbformat_minor": 1,
 "worksheets": [
  {
   "cells": [
    {
     "cell_type": "markdown",
     "metadata": {},
     "source": [
      "## Solution: Saving and Loading a Maze"
     ]
    },
    {
     "cell_type": "code",
     "collapsed": true,
     "input": [
      "house = {",
      "    'living' : {",
      "        'exits': {",
      "            'north' : 'kitchen',",
      "            'outside' : 'garden',",
      "            'upstairs' : 'bedroom'",
      "        },",
      "        'people' : ['James'],",
      "        'capacity' : 2",
      "    },",
      "    'kitchen' : {",
      "        'exits': {",
      "            'south' : 'living'",
      "        },",
      "        'people' : [],",
      "        'capacity' : 1",
      "    },",
      "    'garden' : {",
      "        'exits': {",
      "            'inside' : 'living'",
      "        },",
      "        'people' : ['Sue'],",
      "        'capacity' : 3",
      "    },",
      "    'bedroom' : {",
      "        'exits': {",
      "            'downstairs' : 'living',",
      "            'jump' : 'garden'",
      "        },",
      "        'people' : [],",
      "        'capacity' : 1",
      "    }",
      "}"
     ],
     "language": "python",
     "metadata": {},
     "outputs": [],
     "prompt_number": 1
    },
    {
     "cell_type": "markdown",
     "metadata": {},
     "source": [
      "Save the maze with json:"
     ]
    },
    {
     "cell_type": "code",
     "collapsed": true,
     "input": [
      "import json"
     ],
     "language": "python",
     "metadata": {},
     "outputs": [],
     "prompt_number": 2
    },
    {
     "cell_type": "code",
     "collapsed": false,
     "input": [
      "with open('maze.json','w') as json_maze_out:",
      "    json_maze_out.write(json.dumps(house))"
     ],
     "language": "python",
     "metadata": {},
     "outputs": [],
     "prompt_number": 3
    },
    {
     "cell_type": "markdown",
     "metadata": {},
     "source": [
      "Consider the file on the disk:"
     ]
    },
    {
     "cell_type": "code",
     "collapsed": false,
     "input": [
      "%%bash",
      "cat 'maze.json'"
     ],
     "language": "python",
     "metadata": {},
     "outputs": [
      {
       "output_type": "stream",
       "stream": "stdout",
       "text": [
        "{\"living\": {\"capacity\": 2, \"exits\": {\"outside\": \"garden\", \"north\": \"kitchen\", \"upstairs\": \"bedroom\"}, \"people\": [\"James\"]}, \"garden\": {\"capacity\": 3, \"exits\": {\"inside\": \"living\"}, \"people\": [\"Sue\"]}, \"bedroom\": {\"capacity\": 1, \"exits\": {\"downstairs\": \"living\", \"jump\": \"garden\"}, \"people\": []}, \"kitchen\": {\"capacity\": 1, \"exits\": {\"south\": \"living\"}, \"people\": []}}"
       ]
      }
     ],
     "prompt_number": 4
    },
    {
     "cell_type": "markdown",
     "metadata": {},
     "source": [
      "and now load it into a different variable:"
     ]
    },
    {
     "cell_type": "code",
     "collapsed": false,
     "input": [
      "with open('maze.json') as json_maze_in:",
      "    maze_again = json.load(json_maze_in)"
     ],
     "language": "python",
     "metadata": {},
     "outputs": [],
     "prompt_number": 5
    },
    {
     "cell_type": "code",
     "collapsed": false,
     "input": [
      "maze_again"
     ],
     "language": "python",
     "metadata": {},
     "outputs": [
      {
       "metadata": {},
       "output_type": "pyout",
       "prompt_number": 6,
       "text": [
        "{'bedroom': {'capacity': 1,",
        "  'exits': {'downstairs': 'living', 'jump': 'garden'},",
        "  'people': []},",
        " 'garden': {'capacity': 3, 'exits': {'inside': 'living'}, 'people': ['Sue']},",
        " 'kitchen': {'capacity': 1, 'exits': {'south': 'living'}, 'people': []},",
        " 'living': {'capacity': 2,",
        "  'exits': {'north': 'kitchen', 'outside': 'garden', 'upstairs': 'bedroom'},",
        "  'people': ['James']}}"
       ]
      }
     ],
     "prompt_number": 6
    },
    {
     "cell_type": "markdown",
     "metadata": {},
     "source": [
      "Or with YAML:"
     ]
    },
    {
     "cell_type": "code",
     "collapsed": true,
     "input": [
      "import yaml"
     ],
     "language": "python",
     "metadata": {},
     "outputs": [],
     "prompt_number": 7
    },
    {
     "cell_type": "code",
     "collapsed": true,
     "input": [
      "with open('maze.yaml','w') as yaml_maze_out:",
      "    yaml_maze_out.write(yaml.dump(house))"
     ],
     "language": "python",
     "metadata": {},
     "outputs": [],
     "prompt_number": 8
    },
    {
     "cell_type": "code",
     "collapsed": false,
     "input": [
      "%%bash",
      "cat 'maze.yaml'"
     ],
     "language": "python",
     "metadata": {},
     "outputs": [
      {
       "output_type": "stream",
       "stream": "stdout",
       "text": [
        "bedroom:",
        "  capacity: 1",
        "  exits: {downstairs: living, jump: garden}",
        "  people: []",
        "garden:",
        "  capacity: 3",
        "  exits: {inside: living}",
        "  people: [Sue]",
        "kitchen:",
        "  capacity: 1",
        "  exits: {south: living}",
        "  people: []",
        "living:",
        "  capacity: 2",
        "  exits: {north: kitchen, outside: garden, upstairs: bedroom}",
        "  people: [James]"
       ]
      }
     ],
     "prompt_number": 9
    },
    {
     "cell_type": "code",
     "collapsed": true,
     "input": [
      "with open('maze.yaml') as yaml_maze_in:",
      "    maze_again = yaml.load(yaml_maze_in)"
     ],
     "language": "python",
     "metadata": {},
     "outputs": [],
     "prompt_number": 10
    },
    {
     "cell_type": "code",
     "collapsed": false,
     "input": [
      "maze_again"
     ],
     "language": "python",
     "metadata": {},
     "outputs": [
      {
       "metadata": {},
       "output_type": "pyout",
       "prompt_number": 11,
       "text": [
        "{'bedroom': {'capacity': 1,",
        "  'exits': {'downstairs': 'living', 'jump': 'garden'},",
        "  'people': []},",
        " 'garden': {'capacity': 3, 'exits': {'inside': 'living'}, 'people': ['Sue']},",
        " 'kitchen': {'capacity': 1, 'exits': {'south': 'living'}, 'people': []},",
        " 'living': {'capacity': 2,",
        "  'exits': {'north': 'kitchen', 'outside': 'garden', 'upstairs': 'bedroom'},",
        "  'people': ['James']}}"
       ]
      }
     ],
     "prompt_number": 11
    }
   ],
   "metadata": {}
  }
 ]
}
