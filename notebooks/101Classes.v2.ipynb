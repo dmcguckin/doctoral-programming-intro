{
 "metadata": {
  "jekyll": {
   "display_name": "Classes"
  },
  "kernelspec": {
   "display_name": "Python 3",
   "language": "python",
   "name": "python3"
  },
  "language_info": {
   "codemirror_mode": {
    "name": "ipython",
    "version": 3
   },
   "file_extension": ".py",
   "mimetype": "text/x-python",
   "name": "python",
   "nbconvert_exporter": "python",
   "pygments_lexer": "ipython3",
   "version": "3.5.2"
  },
  "name": ""
 },
 "nbformat": 2,
 "nbformat_minor": 0,
 "orig_nbformat": 4,
 "orig_nbformat_minor": 1,
 "worksheets": [
  {
   "cells": [
    {
     "cell_type": "markdown",
     "metadata": {},
     "source": [
      "# Defining your own classes"
     ]
    },
    {
     "cell_type": "markdown",
     "metadata": {},
     "source": [
      "## User Defined Types"
     ]
    },
    {
     "cell_type": "markdown",
     "metadata": {},
     "source": [
      "A **class** is a user-programmed Python type."
     ]
    },
    {
     "cell_type": "markdown",
     "metadata": {},
     "source": [
      "It is defined like this:"
     ]
    },
    {
     "cell_type": "code",
     "collapsed": true,
     "input": [
      "class Room(object):",
      "    pass"
     ],
     "language": "python",
     "metadata": {},
     "outputs": [],
     "prompt_number": 1
    },
    {
     "cell_type": "markdown",
     "metadata": {},
     "source": [
      "Just as with other python types, you use the name of the type as a function to make a variable of that type:"
     ]
    },
    {
     "cell_type": "code",
     "collapsed": true,
     "input": [
      "zero = int()"
     ],
     "language": "python",
     "metadata": {},
     "outputs": [],
     "prompt_number": 2
    },
    {
     "cell_type": "code",
     "collapsed": false,
     "input": [
      "zero"
     ],
     "language": "python",
     "metadata": {},
     "outputs": [
      {
       "metadata": {},
       "output_type": "pyout",
       "prompt_number": 3,
       "text": [
        "0"
       ]
      }
     ],
     "prompt_number": 3
    },
    {
     "cell_type": "code",
     "collapsed": false,
     "input": [
      "print(type(zero))"
     ],
     "language": "python",
     "metadata": {},
     "outputs": [
      {
       "output_type": "stream",
       "stream": "stdout",
       "text": [
        "<class 'int'>"
       ]
      }
     ],
     "prompt_number": 4
    },
    {
     "cell_type": "code",
     "collapsed": true,
     "input": [
      "myroom = Room()"
     ],
     "language": "python",
     "metadata": {},
     "outputs": [],
     "prompt_number": 5
    },
    {
     "cell_type": "code",
     "collapsed": false,
     "input": [
      "myroom"
     ],
     "language": "python",
     "metadata": {},
     "outputs": [
      {
       "metadata": {},
       "output_type": "pyout",
       "prompt_number": 6,
       "text": [
        "<__main__.Room at 0x2b2397191400>"
       ]
      }
     ],
     "prompt_number": 6
    },
    {
     "cell_type": "code",
     "collapsed": false,
     "input": [
      "print(type(myroom))"
     ],
     "language": "python",
     "metadata": {},
     "outputs": [
      {
       "output_type": "stream",
       "stream": "stdout",
       "text": [
        "<class '__main__.Room'>"
       ]
      }
     ],
     "prompt_number": 7
    },
    {
     "cell_type": "markdown",
     "metadata": {},
     "source": [
      "In the jargon, we say that an **object** is an **instance** of a particular **class**."
     ]
    },
    {
     "cell_type": "markdown",
     "metadata": {},
     "source": [
      "Once we have an object with a type of our own devising, we can add properties at will:"
     ]
    },
    {
     "cell_type": "code",
     "collapsed": true,
     "input": [
      "myroom.name = \"Living\""
     ],
     "language": "python",
     "metadata": {},
     "outputs": [],
     "prompt_number": 8
    },
    {
     "cell_type": "code",
     "collapsed": false,
     "input": [
      "print(myroom.name)"
     ],
     "language": "python",
     "metadata": {},
     "outputs": [
      {
       "output_type": "stream",
       "stream": "stdout",
       "text": [
        "Living"
       ]
      }
     ],
     "prompt_number": 9
    },
    {
     "cell_type": "markdown",
     "metadata": {},
     "source": [
      "The most common use of a class is to allow us to group data into an object in a way that is ",
      "easier to read and understand than organising data into lists and dictionaries."
     ]
    },
    {
     "cell_type": "code",
     "collapsed": true,
     "input": [
      "myroom.capacity = 3",
      "myroom.occupants = [\"James\", \"Sue\"]"
     ],
     "language": "python",
     "metadata": {},
     "outputs": [],
     "prompt_number": 10
    },
    {
     "cell_type": "code",
     "collapsed": false,
     "input": [
      "mystring = \"Hello\"",
      "mystring.upper()"
     ],
     "language": "python",
     "metadata": {},
     "outputs": [
      {
       "metadata": {},
       "output_type": "pyout",
       "prompt_number": 11,
       "text": [
        "'HELLO'"
       ]
      }
     ],
     "prompt_number": 11
    },
    {
     "cell_type": "code",
     "collapsed": true,
     "input": [
      "x = \"Hello\"",
      "x = 'Hello'"
     ],
     "language": "python",
     "metadata": {},
     "outputs": [],
     "prompt_number": 12
    },
    {
     "cell_type": "code",
     "collapsed": true,
     "input": [
      "y = \"James's String\""
     ],
     "language": "python",
     "metadata": {},
     "outputs": [],
     "prompt_number": 13
    },
    {
     "cell_type": "code",
     "collapsed": true,
     "input": [
      "z = \"7'\"+'2\"'"
     ],
     "language": "python",
     "metadata": {},
     "outputs": [],
     "prompt_number": 14
    },
    {
     "cell_type": "code",
     "collapsed": false,
     "input": [
      "z"
     ],
     "language": "python",
     "metadata": {},
     "outputs": [
      {
       "metadata": {},
       "output_type": "pyout",
       "prompt_number": 15,
       "text": [
        "'7\\'2\"'"
       ]
      }
     ],
     "prompt_number": 15
    },
    {
     "cell_type": "markdown",
     "metadata": {},
     "source": [
      "## Methods"
     ]
    },
    {
     "cell_type": "markdown",
     "metadata": {},
     "source": [
      "So far, our class doesn't do much!"
     ]
    },
    {
     "cell_type": "markdown",
     "metadata": {},
     "source": [
      "We define functions **inside** the definition of a class, in order to give them capabilities, just like the methods on built-in",
      "types."
     ]
    },
    {
     "cell_type": "code",
     "collapsed": true,
     "input": [
      "class Room(object):",
      "    def overfull(self):",
      "        return len(self.occupants) > self.capacity"
     ],
     "language": "python",
     "metadata": {},
     "outputs": [],
     "prompt_number": 16
    },
    {
     "cell_type": "code",
     "collapsed": true,
     "input": [
      "myroom = Room()",
      "myroom.capacity = 3",
      "myroom.occupants = [\"James\", \"Sue\"]"
     ],
     "language": "python",
     "metadata": {},
     "outputs": [],
     "prompt_number": 17
    },
    {
     "cell_type": "code",
     "collapsed": false,
     "input": [
      "myroom.overfull()"
     ],
     "language": "python",
     "metadata": {},
     "outputs": [
      {
       "metadata": {},
       "output_type": "pyout",
       "prompt_number": 18,
       "text": [
        "False"
       ]
      }
     ],
     "prompt_number": 18
    },
    {
     "cell_type": "code",
     "collapsed": true,
     "input": [
      "myroom.occupants.append(['Clare'])"
     ],
     "language": "python",
     "metadata": {},
     "outputs": [],
     "prompt_number": 19
    },
    {
     "cell_type": "code",
     "collapsed": true,
     "input": [
      "myroom.occupants.append(['Bob'])"
     ],
     "language": "python",
     "metadata": {},
     "outputs": [],
     "prompt_number": 20
    },
    {
     "cell_type": "code",
     "collapsed": false,
     "input": [
      "myroom.overfull()"
     ],
     "language": "python",
     "metadata": {},
     "outputs": [
      {
       "metadata": {},
       "output_type": "pyout",
       "prompt_number": 21,
       "text": [
        "True"
       ]
      }
     ],
     "prompt_number": 21
    },
    {
     "cell_type": "markdown",
     "metadata": {},
     "source": [
      "When we write methods, we always write the first function argument as `self`, to refer to the object instance itself,",
      "the argument that goes \"before the dot\"."
     ]
    },
    {
     "cell_type": "markdown",
     "metadata": {},
     "source": [
      "## Constructors"
     ]
    },
    {
     "cell_type": "markdown",
     "metadata": {},
     "source": [
      "Normally, though, we don't want to add data to the class attributes on the fly like that. ",
      "Instead, we define a **constructor** that converts input data into an object. "
     ]
    },
    {
     "cell_type": "code",
     "collapsed": true,
     "input": [
      "class Room(object):",
      "    def __init__(self, name, exits, capacity, occupants=[]):",
      "        self.name = name",
      "        self.occupants = occupants # Note the default argument, occupants start empty",
      "        self.exits = exits",
      "        self.capacity = capacity",
      "    def overfull(self):",
      "        return len(self.occupants) > self.capacity"
     ],
     "language": "python",
     "metadata": {},
     "outputs": [],
     "prompt_number": 22
    },
    {
     "cell_type": "code",
     "collapsed": true,
     "input": [
      "living = Room(\"Living Room\", {'north': 'garden'}, 3)"
     ],
     "language": "python",
     "metadata": {},
     "outputs": [],
     "prompt_number": 23
    },
    {
     "cell_type": "code",
     "collapsed": false,
     "input": [
      "living.capacity"
     ],
     "language": "python",
     "metadata": {},
     "outputs": [
      {
       "metadata": {},
       "output_type": "pyout",
       "prompt_number": 24,
       "text": [
        "3"
       ]
      }
     ],
     "prompt_number": 24
    },
    {
     "cell_type": "markdown",
     "metadata": {},
     "source": [
      "Methods which begin and end with **two underscores** in their names fulfil special capabilities in Python, such as",
      "constructors."
     ]
    },
    {
     "cell_type": "markdown",
     "metadata": {},
     "source": [
      "## Object-oriented design"
     ]
    },
    {
     "cell_type": "markdown",
     "metadata": {},
     "source": [
      "In building a computer system to model a problem, therefore, we often want to make:",
      "",
      "* classes for each *kind of thing* in our system",
      "* methods for each *capability* of that kind",
      "* properties (defined in a constructor) for each *piece of information describing* that kind"
     ]
    },
    {
     "cell_type": "markdown",
     "metadata": {},
     "source": [
      "For example, the below program might describe our \"Maze of Rooms\" system:"
     ]
    },
    {
     "cell_type": "markdown",
     "metadata": {},
     "source": [
      "We define a \"Maze\" class which can hold rooms:"
     ]
    },
    {
     "cell_type": "code",
     "collapsed": true,
     "input": [
      "class Maze(object):",
      "    def __init__(self, name):",
      "        self.name = name",
      "        self.rooms = {}",
      "        ",
      "    def add_room(self, room):",
      "        room.maze = self # The Room needs to know which Maze it is a part of",
      "        self.rooms[room.name] = room",
      "    ",
      "    def occupants(self):",
      "        return  [occupant for room in self.rooms.values()",
      "                 for occupant in room.occupants.values()]",
      "    ",
      "    def wander(self):",
      "        \"Move all the people in a random direction\"",
      "        for occupant in self.occupants():",
      "            occupant.wander()",
      "                ",
      "    def describe(self):",
      "        for room in self.rooms.values():",
      "            room.describe()",
      "            ",
      "    def step(self):",
      "        house.describe()",
      "        print",
      "        house.wander()",
      "        print",
      "        ",
      "    def simulate(self, steps):",
      "        for _ in range(steps):",
      "            self.step()"
     ],
     "language": "python",
     "metadata": {},
     "outputs": [],
     "prompt_number": 25
    },
    {
     "cell_type": "markdown",
     "metadata": {},
     "source": [
      "And a \"Room\" class with exits, and people:"
     ]
    },
    {
     "cell_type": "code",
     "collapsed": false,
     "input": [
      "class Room(object):",
      "    def __init__(self, name, exits, capacity, maze = None):",
      "        self.maze = maze",
      "        self.name = name",
      "        self.occupants = {} # Note the default argument, occupants start empty",
      "        self.exits = exits # Should be a dictionary from directions to room names",
      "        self.capacity = capacity",
      "        ",
      "    def has_space(self):",
      "        return len(self.occupants) < self.capacity",
      "    ",
      "    def available_exits(self):",
      "        return [exit for exit, target in self.exits.items()",
      "                if self.maze.rooms[target].has_space() ]",
      "            ",
      "    def random_valid_exit(self):",
      "        import random",
      "        if not self.available_exits():",
      "            return None",
      "        return random.choice(self.available_exits())",
      "",
      "    def destination(self, exit):",
      "        return self.maze.rooms[ self.exits[exit] ]",
      "    ",
      "    def add_occupant(self, occupant):",
      "        occupant.room = self # The person needs to know which room it is in",
      "        self.occupants[occupant.name] = occupant",
      "        ",
      "    def delete_occupant(self, occupant):",
      "        del self.occupants[occupant.name]",
      "        ",
      "    def describe(self):",
      "        if self.occupants:",
      "            print(self.name, \": \", \" \".join(self.occupants.keys()))"
     ],
     "language": "python",
     "metadata": {},
     "outputs": [],
     "prompt_number": 26
    },
    {
     "cell_type": "markdown",
     "metadata": {},
     "source": [
      "We define a \"Person\" class for room occupants:"
     ]
    },
    {
     "cell_type": "code",
     "collapsed": false,
     "input": [
      "class Person(object):",
      "    def __init__(self, name, room = None):",
      "        self.name=name",
      "    ",
      "    def use(self, exit):",
      "        self.room.delete_occupant(self)",
      "        destination=self.room.destination(exit)",
      "        destination.add_occupant(self)",
      "        print(self.name, \"goes\", exit, \"to the\", destination.name)",
      "    ",
      "    def wander(self):",
      "        exit = self.room.random_valid_exit()",
      "        if exit:",
      "            self.use(exit)"
     ],
     "language": "python",
     "metadata": {},
     "outputs": [],
     "prompt_number": 27
    },
    {
     "cell_type": "markdown",
     "metadata": {},
     "source": [
      "And we use these classes to define our people, rooms, and their relationships:"
     ]
    },
    {
     "cell_type": "code",
     "collapsed": true,
     "input": [
      "james=Person('James')",
      "sue=Person('Sue')",
      "bob=Person('Bob')",
      "clare=Person('Clare')"
     ],
     "language": "python",
     "metadata": {},
     "outputs": [],
     "prompt_number": 28
    },
    {
     "cell_type": "code",
     "collapsed": false,
     "input": [
      "living=Room('livingroom', {'outside':'garden', 'upstairs':'bedroom', 'north':'kitchen'}, 2)",
      "kitchen=Room('kitchen', {'south':'livingroom'}, 1)",
      "garden=Room('garden', {'inside':'livingroom'}, 3)",
      "bedroom=Room('bedroom', {'jump':'garden', 'downstairs': 'livingroom'}, 1)"
     ],
     "language": "python",
     "metadata": {},
     "outputs": [],
     "prompt_number": 29
    },
    {
     "cell_type": "code",
     "collapsed": false,
     "input": [
      "house=Maze('My House')"
     ],
     "language": "python",
     "metadata": {},
     "outputs": [],
     "prompt_number": 30
    },
    {
     "cell_type": "code",
     "collapsed": false,
     "input": [
      "for room in [living, kitchen, garden, bedroom]:",
      "    house.add_room(room)"
     ],
     "language": "python",
     "metadata": {},
     "outputs": [],
     "prompt_number": 31
    },
    {
     "cell_type": "code",
     "collapsed": false,
     "input": [
      "living.add_occupant(james)"
     ],
     "language": "python",
     "metadata": {},
     "outputs": [],
     "prompt_number": 32
    },
    {
     "cell_type": "code",
     "collapsed": false,
     "input": [
      "garden.add_occupant(sue)",
      "garden.add_occupant(clare)"
     ],
     "language": "python",
     "metadata": {},
     "outputs": [],
     "prompt_number": 33
    },
    {
     "cell_type": "code",
     "collapsed": true,
     "input": [
      "bedroom.add_occupant(bob)"
     ],
     "language": "python",
     "metadata": {},
     "outputs": [],
     "prompt_number": 34
    },
    {
     "cell_type": "markdown",
     "metadata": {},
     "source": [
      "And we can run a \"simulation\" of our model:"
     ]
    },
    {
     "cell_type": "code",
     "collapsed": false,
     "input": [
      "house.simulate(3)"
     ],
     "language": "python",
     "metadata": {},
     "outputs": [
      {
       "output_type": "stream",
       "stream": "stdout",
       "text": [
        "garden :  Clare Sue",
        "livingroom :  James",
        "bedroom :  Bob",
        "Clare goes inside to the livingroom",
        "James goes north to the kitchen",
        "Bob goes downstairs to the livingroom",
        "garden :  Sue",
        "livingroom :  Clare Bob",
        "kitchen :  James",
        "Clare goes outside to the garden",
        "Bob goes upstairs to the bedroom",
        "James goes south to the livingroom",
        "garden :  Clare Sue",
        "livingroom :  James",
        "bedroom :  Bob",
        "Clare goes inside to the livingroom",
        "James goes outside to the garden",
        "Bob goes jump to the garden"
       ]
      }
     ],
     "prompt_number": 35
    },
    {
     "cell_type": "markdown",
     "metadata": {},
     "source": [
      "## Object oriented design"
     ]
    },
    {
     "cell_type": "markdown",
     "metadata": {},
     "source": [
      "There are many choices for how to design programs to do this. Another choice would be to separately define exits as a different class from rooms. This way, ",
      "we can use arrays instead of dictionaries, but we have to first define all our rooms, then define all our exits."
     ]
    },
    {
     "cell_type": "code",
     "collapsed": true,
     "input": [
      "class Maze(object):",
      "    def __init__(self, name):",
      "        self.name = name",
      "        self.rooms = []",
      "        self.occupants = []",
      "        ",
      "    def add_room(self, name, capacity):",
      "        result = Room(name, capacity)",
      "        self.rooms.append(result)",
      "        return result",
      "        ",
      "    def add_exit(self, name, source, target, reverse= None):",
      "        source.add_exit(name, target)",
      "        if reverse:",
      "            target.add_exit(reverse, source)",
      "            ",
      "    def add_occupant(self, name, room):",
      "        self.occupants.append(Person(name, room))",
      "        room.occupancy += 1",
      "    ",
      "    def wander(self):",
      "        \"Move all the people in a random direction\"",
      "        for occupant in self.occupants:",
      "            occupant.wander()",
      "                ",
      "    def describe(self):",
      "        for occupant in self.occupants:",
      "            occupant.describe()",
      "            ",
      "    def step(self):",
      "        house.describe()",
      "        print()",
      "        house.wander()",
      "        print()",
      "        ",
      "    def simulate(self, steps):",
      "        for _ in range(steps):",
      "            self.step()"
     ],
     "language": "python",
     "metadata": {},
     "outputs": [],
     "prompt_number": 36
    },
    {
     "cell_type": "code",
     "collapsed": true,
     "input": [
      "class Room(object):",
      "    def __init__(self, name, capacity):",
      "        self.name = name",
      "        self.capacity = capacity",
      "        self.occupancy = 0",
      "        self.exits = []",
      "        ",
      "    def has_space(self):",
      "        return self.occupancy < self.capacity",
      "    ",
      "    def available_exits(self):",
      "        return [exit for exit in self.exits if exit.valid() ]",
      "            ",
      "    def random_valid_exit(self):",
      "        import random",
      "        if not self.available_exits():",
      "            return None",
      "        return random.choice(self.available_exits())",
      "    ",
      "    def add_exit(self, name, target):",
      "        self.exits.append(Exit(name, target))",
      "    "
     ],
     "language": "python",
     "metadata": {},
     "outputs": [],
     "prompt_number": 37
    },
    {
     "cell_type": "code",
     "collapsed": false,
     "input": [
      "class Person(object):",
      "    def __init__(self, name, room = None):",
      "        self.name=name",
      "        self.room=room",
      "    ",
      "    def use(self, exit):",
      "        self.room.occupancy -= 1",
      "        destination=exit.target",
      "        destination.occupancy +=1",
      "        self.room=destination",
      "        print(self.name, \"goes\", exit.name, \"to the\", destination.name)",
      "    ",
      "    def wander(self):",
      "        exit = self.room.random_valid_exit()",
      "        if exit:",
      "            self.use(exit)",
      "            ",
      "    def describe(self):",
      "        print(self.name, \"is in the\", self.room.name)"
     ],
     "language": "python",
     "metadata": {},
     "outputs": [],
     "prompt_number": 38
    },
    {
     "cell_type": "code",
     "collapsed": true,
     "input": [
      "class Exit(object):",
      "    def __init__(self, name, target):",
      "        self.name = name",
      "        self.target = target",
      "    ",
      "    def valid(self):",
      "        return self.target.has_space()"
     ],
     "language": "python",
     "metadata": {},
     "outputs": [],
     "prompt_number": 39
    },
    {
     "cell_type": "code",
     "collapsed": false,
     "input": [
      "house=Maze('My New House')"
     ],
     "language": "python",
     "metadata": {},
     "outputs": [],
     "prompt_number": 40
    },
    {
     "cell_type": "code",
     "collapsed": false,
     "input": [
      "living=house.add_room('livingroom', 2)",
      "bed = house.add_room('bedroom', 1)",
      "garden = house.add_room('garden', 3)",
      "kitchen = house.add_room('kitchen', 1)"
     ],
     "language": "python",
     "metadata": {},
     "outputs": [],
     "prompt_number": 41
    },
    {
     "cell_type": "code",
     "collapsed": false,
     "input": [
      "house.add_exit('north', living, kitchen, 'south')"
     ],
     "language": "python",
     "metadata": {},
     "outputs": [],
     "prompt_number": 42
    },
    {
     "cell_type": "code",
     "collapsed": false,
     "input": [
      "house.add_exit('upstairs', living, bed, 'downstairs')"
     ],
     "language": "python",
     "metadata": {},
     "outputs": [],
     "prompt_number": 43
    },
    {
     "cell_type": "code",
     "collapsed": true,
     "input": [
      "house.add_exit('outside', living, garden, 'inside')"
     ],
     "language": "python",
     "metadata": {},
     "outputs": [],
     "prompt_number": 44
    },
    {
     "cell_type": "code",
     "collapsed": true,
     "input": [
      "house.add_exit('jump',bed, garden)"
     ],
     "language": "python",
     "metadata": {},
     "outputs": [],
     "prompt_number": 45
    },
    {
     "cell_type": "code",
     "collapsed": false,
     "input": [
      "house.add_occupant('James', living)",
      "house.add_occupant('Sue', garden)",
      "house.add_occupant('Bob', bed)",
      "house.add_occupant('Clare', garden)"
     ],
     "language": "python",
     "metadata": {},
     "outputs": [],
     "prompt_number": 46
    },
    {
     "cell_type": "code",
     "collapsed": false,
     "input": [
      "house.simulate(3)"
     ],
     "language": "python",
     "metadata": {},
     "outputs": [
      {
       "output_type": "stream",
       "stream": "stdout",
       "text": [
        "James is in the livingroom",
        "Sue is in the garden",
        "Bob is in the bedroom",
        "Clare is in the garden",
        "",
        "James goes north to the kitchen",
        "Sue goes inside to the livingroom",
        "Bob goes downstairs to the livingroom",
        "",
        "James is in the kitchen",
        "Sue is in the livingroom",
        "Bob is in the livingroom",
        "Clare is in the garden",
        "",
        "Sue goes outside to the garden",
        "Bob goes outside to the garden",
        "Clare goes inside to the livingroom",
        "",
        "James is in the kitchen",
        "Sue is in the garden",
        "Bob is in the garden",
        "Clare is in the livingroom",
        "",
        "James goes south to the livingroom",
        "Clare goes upstairs to the bedroom",
        ""
       ]
      }
     ],
     "prompt_number": 47
    },
    {
     "cell_type": "markdown",
     "metadata": {},
     "source": [
      "This is a huge topic, about which many books have been written. The differences between these two designs are important, and will have long-term consequences for the project. That is the how we start to think about **software engineering**, as opposed to learning to program, and is where this course ends, and future courses begin!"
     ]
    },
    {
     "cell_type": "markdown",
     "metadata": {},
     "source": [
      "## Exercise: Your own solution"
     ]
    },
    {
     "cell_type": "markdown",
     "metadata": {},
     "source": [
      "Compare the two solutions above. Discuss with a partner which you like better, and why. Then, starting from scratch, design your own. What choices did you make that are different from mine?"
     ]
    }
   ],
   "metadata": {}
  }
 ]
}
